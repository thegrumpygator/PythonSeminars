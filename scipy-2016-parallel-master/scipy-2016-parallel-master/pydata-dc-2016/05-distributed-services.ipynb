{
 "cells": [
  {
   "cell_type": "markdown",
   "metadata": {},
   "source": [
    "Distributed Services\n",
    "====================\n",
    "\n",
    "**NOTE:** This notebook and those that follow are to be run on the [scipy2016.jupyter.org](https://scipy2016.jupyter.org) cluster.\n",
    "\n",
    "The cluster contains the following three distributed frameworks:\n",
    "\n",
    "*  **Spark**, running at `spark://schedulers:7077`\n",
    "*  **IPython Parallel**, whose controller is specified in a configuration file\n",
    "*  **Dask**, running at `schedulers:9000`\n",
    "\n",
    "Each of these systems has a central controller/scheduler/master that manages worker processes on other computers on your cluster.  \n",
    "\n",
    "This notebook contains setup information for connecting to each of these services."
   ]
  },
  {
   "cell_type": "markdown",
   "metadata": {},
   "source": [
    "### Spark"
   ]
  },
  {
   "cell_type": "code",
   "execution_count": null,
   "metadata": {
    "collapsed": false
   },
   "outputs": [],
   "source": [
    "from pyspark import SparkContext\n",
    "sc = SparkContext('spark://schedulers:7077')\n",
    "sc"
   ]
  },
  {
   "cell_type": "markdown",
   "metadata": {},
   "source": [
    "### IPython Parallel"
   ]
  },
  {
   "cell_type": "code",
   "execution_count": null,
   "metadata": {
    "collapsed": true
   },
   "outputs": [],
   "source": [
    "from ipyparallel import Client\n",
    "c = Client()\n",
    "view = c[:]\n",
    "view"
   ]
  },
  {
   "cell_type": "markdown",
   "metadata": {},
   "source": [
    "### Dask"
   ]
  },
  {
   "cell_type": "code",
   "execution_count": null,
   "metadata": {
    "collapsed": true
   },
   "outputs": [],
   "source": [
    "from dask.distributed import Executor\n",
    "e = Executor('schedulers:9000')\n",
    "e"
   ]
  }
 ],
 "metadata": {
  "kernelspec": {
   "display_name": "Python 3",
   "language": "python",
   "name": "python3"
  },
  "language_info": {
   "codemirror_mode": {
    "name": "ipython",
    "version": 3
   },
   "file_extension": ".py",
   "mimetype": "text/x-python",
   "name": "python",
   "nbconvert_exporter": "python",
   "pygments_lexer": "ipython3",
   "version": "3.5.1"
  }
 },
 "nbformat": 4,
 "nbformat_minor": 1
}
