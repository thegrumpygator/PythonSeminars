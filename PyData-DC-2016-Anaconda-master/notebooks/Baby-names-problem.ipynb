{
 "cells": [
  {
   "cell_type": "markdown",
   "metadata": {},
   "source": [
    "### Preparation\n",
    "\n",
    "For this exercise, we'll use a subset of the [baby names data set](http://www.ssa.gov/oact/babynames/names.zip). After unzipping the zip file, you'll find individual files `yob2000.txt`, `yob2001.txt`, ... `yob2014.txt`, and `yob2015.txt`. Each file lists babies born in a specific year of birth (`yob`) who were issued a US social security number. The files are broken up into gender, name, and births per name for all babies that were born in that year. Names that were assigned fewer than 5 times in a given birth year are excluded."
   ]
  },
  {
   "cell_type": "markdown",
   "metadata": {},
   "source": [
    "---\n",
    "### Exercise \n",
    "Use the baby names data set to build up a pandas object called `names_data` that includes data from all the years."
   ]
  },
  {
   "cell_type": "code",
   "execution_count": null,
   "metadata": {
    "collapsed": true
   },
   "outputs": [],
   "source": []
  }
 ],
 "metadata": {
  "anaconda-cloud": {},
  "kernelspec": {
   "display_name": "Python [default]",
   "language": "python",
   "name": "python3"
  },
  "language_info": {
   "codemirror_mode": {
    "name": "ipython",
    "version": 3
   },
   "file_extension": ".py",
   "mimetype": "text/x-python",
   "name": "python",
   "nbconvert_exporter": "python",
   "pygments_lexer": "ipython3",
   "version": "3.5.2"
  }
 },
 "nbformat": 4,
 "nbformat_minor": 0
}
