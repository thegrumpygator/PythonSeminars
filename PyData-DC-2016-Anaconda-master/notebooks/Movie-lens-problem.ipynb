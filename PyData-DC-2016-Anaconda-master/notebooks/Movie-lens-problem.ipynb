{
 "cells": [
  {
   "cell_type": "markdown",
   "metadata": {},
   "source": [
    "### Preparation\n",
    "\n",
    "For this exercise, we'll use the [Movie Lens 1M data set](http://www.grouplens.org/system/files/ml-1m.zip). This data set has over 1,000,000 movie ratings for almost 4,000 movies from over 6,000 people. You may want to review the construction of pivot tables using `pandas` for some of the exercises."
   ]
  },
  {
   "cell_type": "markdown",
   "metadata": {},
   "source": [
    "---\n",
    "### Exercise\n",
    "Use the movie-lens 1M data set and `pandas.read_table` function to read in all three files (`users.dat`, `ratings.dat`, & `movies.dat`) into `pandas` DataFrames and combine the three individual DataFrames constructed above into a single DataFrame named `movie_data`. It's likely easiest to assign the columns names directly in the call to `pandas.read_table()` in each case.\n",
    "\n",
    "* You can examine the individual files in a text editor to get an idea of their structure.\n",
    "* The columns for each file are as follows:\n",
    "  * `users.dat`: user id, gender, age, occupation code, zip\n",
    "  * `ratings.dat`: user id, movie id, rating, timestamp\n",
    "  * `movies.dat`: movie id, title, genre"
   ]
  },
  {
   "cell_type": "code",
   "execution_count": null,
   "metadata": {
    "collapsed": true
   },
   "outputs": [],
   "source": []
  }
 ],
 "metadata": {
  "anaconda-cloud": {},
  "kernelspec": {
   "display_name": "Python [default]",
   "language": "python",
   "name": "python3"
  },
  "language_info": {
   "codemirror_mode": {
    "name": "ipython",
    "version": 3
   },
   "file_extension": ".py",
   "mimetype": "text/x-python",
   "name": "python",
   "nbconvert_exporter": "python",
   "pygments_lexer": "ipython3",
   "version": "3.5.2"
  }
 },
 "nbformat": 4,
 "nbformat_minor": 0
}
