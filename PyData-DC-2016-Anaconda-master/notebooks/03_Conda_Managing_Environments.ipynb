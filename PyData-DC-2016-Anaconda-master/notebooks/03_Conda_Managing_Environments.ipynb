{
 "cells": [
  {
   "cell_type": "markdown",
   "metadata": {},
   "source": [
    "<img src='img/anaconda-logo.png' align='left' style=\"padding:10px\">\n",
    "<br>\n",
    "*Copyright Continuum 2012-2016 All Rights Reserved.*"
   ]
  },
  {
   "cell_type": "markdown",
   "metadata": {},
   "source": [
    "# Managing Conda Environments"
   ]
  },
  {
   "cell_type": "markdown",
   "metadata": {},
   "source": [
    "In this notebook, we'll see the primary ways to use the `conda` command-line client to find help, to inspect environments, and to find packages. We'll also see more details on how to create, modify, & remove environments, as well as switching environments. Many useful tips are summarized in the [Conda cheat sheet](http://conda.pydata.org/docs/using/cheatsheet.html)."
   ]
  },
  {
   "cell_type": "markdown",
   "metadata": {},
   "source": [
    "# Table of Contents\n",
    "* [Managing Conda Environments](#Managing-Conda-Environments)\n",
    "* [Exploring Environments](#Exploring-Environments)\n",
    "* [Creating & Removing Environments](#Creating-&-Removing-Environments)\n",
    "\t* [Create a conda environment](#Create-a-conda-environment)\n",
    "\t* [Add and then Remove a SIngle Package](#Add-and-then-Remove-a-SIngle-Package)\n",
    "\t* [Remove a conda environment](#Remove-a-conda-environment)\n",
    "* [Managing Packages in Environments](#Managing-Packages-in-Environments)\n",
    "\t* [Listing Packages](#Listing-Packages)\n",
    "\t* [Finding new Packages](#Finding-new-Packages)\n",
    "\t* [Adding and updating packages](#Adding-and-updating-packages)\n",
    "\t* [Removing Packages](#Removing-Packages)\n",
    "* [Activating Environments](#Activating-Environments)\n",
    "\t* [Activate an environment](#Activate-an-environment)\n",
    "\t* [Deactivate an environment](#Deactivate-an-environment)\n",
    "* [Environments and the System Path](#Environments-and-the-System-Path)\n",
    "\t* [System `PATH`](#System-PATH)\n",
    "\t* [Listing and Editing your PATH](#Listing-and-Editing-your-PATH)\n",
    "\t* [How does Conda \"activate\" an environment?](#How-does-Conda-\"activate\"-an-environment?)\n",
    "\t* [Path Exercises](#Path-Exercises)\n"
   ]
  },
  {
   "cell_type": "markdown",
   "metadata": {},
   "source": [
    "<div class='alert alert-warning'>\n",
    "<big>\n",
    "Warning: Some of the environments referenced in this notebook were created as exercises in the previous notebook on  [using conda environments](./02_Conda_Using_Environments.ipynb).\n",
    "</big>\n",
    "</div>"
   ]
  },
  {
   "cell_type": "markdown",
   "metadata": {},
   "source": [
    "# Exploring Environments"
   ]
  },
  {
   "cell_type": "markdown",
   "metadata": {},
   "source": [
    "Conda helps you manage collections of packages.\n",
    "But where do these packages come from and how do you find them?\n",
    "How can you get a list of what's available and what's already installed in your Conda environments? "
   ]
  },
  {
   "cell_type": "markdown",
   "metadata": {},
   "source": [
    "* Getting help for Conda commands\n",
    "    * `conda --help`\n",
    "    * `conda info --help`\n",
    "    * `conda env --help`"
   ]
  },
  {
   "cell_type": "markdown",
   "metadata": {},
   "source": [
    "<img src='img/topics/Exercise.png' align='left'>\n",
    "<div class='alert alert-warning' align=\"center\">\n",
    "<font size=\"+2\">Inspect the help for conda create</font>\n",
    "\n",
    "<br/><br/>\n",
    "<div style=\"padding-left: 10%\" align=\"left\">\n",
    "Use the command `conda create --help` to determine how to use the `-n` input flag for naming a new environment. Don't create it just yet. That's the next exercise!\n",
    "</div></div>"
   ]
  },
  {
   "cell_type": "markdown",
   "metadata": {},
   "source": [
    "* Listing Conda environments: 2 equivalent ways\n",
    "    * `conda env list`\n",
    "    * `conda info --envs`"
   ]
  },
  {
   "cell_type": "markdown",
   "metadata": {},
   "source": [
    "<img src='img/topics/Exercise.png' align='left'>\n",
    "<div class='alert alert-warning' align=\"center\">\n",
    "<font size=\"+2\">How many conda environments do you have?</font>\n",
    "\n",
    "<br/><br/>\n",
    "<div style=\"padding-left: 10%\" align=\"left\">\n",
    "Use the command `conda env list` command to determine how many environments you have. What are their names?\n",
    "</div></div>"
   ]
  },
  {
   "cell_type": "markdown",
   "metadata": {},
   "source": [
    "* Listing Conda packages within a given environment\n",
    "    * `conda list --help`\n",
    "    * `conda list -n py3-env`"
   ]
  },
  {
   "cell_type": "markdown",
   "metadata": {},
   "source": [
    "<img src='img/topics/Exercise.png' align='left'>\n",
    "<div class='alert alert-warning' align=\"center\">\n",
    "<font size=\"+2\">Inspect your packages</font>\n",
    "\n",
    "<br/><br/>\n",
    "<div style=\"padding-left: 10%\" align=\"left\">\n",
    "Use conda to list all the pacages contained within your presently activated environment\n",
    "<pre>\n",
    "conda list\n",
    "</pre>\n",
    "</div></div>"
   ]
  },
  {
   "cell_type": "markdown",
   "metadata": {},
   "source": [
    "<img src='img/topics/Exercise.png' align='left'>\n",
    "<div class='alert alert-warning' align=\"center\">\n",
    "<font size=\"+2\">Inspect your environment history</font>\n",
    "\n",
    "<br/><br/>\n",
    "<div style=\"padding-left: 10%\" align=\"left\">\n",
    "Use conda to inspect your environment change history by running the following commands in a terminal. Note the revision sections marked `(rev0)` and `(rev1)`\n",
    "<pre>\n",
    "conda list -r\n",
    "</pre>\n",
    "</div></div>"
   ]
  },
  {
   "cell_type": "markdown",
   "metadata": {},
   "source": [
    "# Creating & Removing Environments"
   ]
  },
  {
   "cell_type": "markdown",
   "metadata": {},
   "source": [
    "## Create a conda environment"
   ]
  },
  {
   "cell_type": "markdown",
   "metadata": {},
   "source": [
    "```\n",
    "conda create -n austin python=3.5\n",
    "conda env list\n",
    "```"
   ]
  },
  {
   "cell_type": "markdown",
   "metadata": {},
   "source": [
    "<img src='img/topics/Exercise.png' align='left'>\n",
    "<div class='alert alert-warning' align=\"center\">\n",
    "<font size=\"+2\">Inspect the packages within the newly created environment</font>\n",
    "\n",
    "<br/><br/>\n",
    "<div style=\"padding-left: 10%\" align=\"left\">\n",
    "Use the command `conda list -n austin` and deterine how many packages were installed when you created this environment.\n",
    "</div></div>"
   ]
  },
  {
   "cell_type": "markdown",
   "metadata": {},
   "source": [
    "## Add and Remove a Single Package"
   ]
  },
  {
   "cell_type": "markdown",
   "metadata": {},
   "source": [
    "```\n",
    "conda install -n austin numpy\n",
    "conda list -n austin\n",
    "conda remove -n austin numpy\n",
    "```"
   ]
  },
  {
   "cell_type": "markdown",
   "metadata": {},
   "source": [
    "## Remove a conda environment"
   ]
  },
  {
   "cell_type": "markdown",
   "metadata": {},
   "source": [
    "```\n",
    "conda remove -n austin --all\n",
    "conda env list\n",
    "```"
   ]
  },
  {
   "cell_type": "markdown",
   "metadata": {},
   "source": [
    "# Managing Packages in Environments"
   ]
  },
  {
   "cell_type": "markdown",
   "metadata": {},
   "source": [
    "## Listing Packages"
   ]
  },
  {
   "cell_type": "markdown",
   "metadata": {},
   "source": [
    "* What packages are inside your environment?"
   ]
  },
  {
   "cell_type": "markdown",
   "metadata": {},
   "source": [
    "```bash\n",
    "conda list -n py3-env\n",
    "```"
   ]
  },
  {
   "cell_type": "markdown",
   "metadata": {},
   "source": [
    "You should see a list of packages similar to the following:"
   ]
  },
  {
   "cell_type": "markdown",
   "metadata": {},
   "source": [
    "```\n",
    "The following NEW packages will be INSTALLED:\n",
    "\n",
    "    openssl:    1.0.2h-1\n",
    "    pip:        8.1.2-py35_0\n",
    "    python:     3.5.2-0\n",
    "    readline:   6.2-2\n",
    "    setuptools: 23.0.0-py35_0\n",
    "    sqlite:     3.13.0-0\n",
    "    tk:         8.5.18-0\n",
    "    wheel:      0.29.0-py35_0\n",
    "    xz:         5.2.2-0\n",
    "    zlib:       1.2.8-3\n",
    "```"
   ]
  },
  {
   "cell_type": "markdown",
   "metadata": {},
   "source": [
    "<img src='img/topics/Exercise.png' align='left'>\n",
    "<div class='alert alert-warning' align=\"center\">\n",
    "<font size=\"+2\">Do you have pandas installed?</font>\n",
    "\n",
    "<br/><br/>\n",
    "<div style=\"padding-left: 10%\" align=\"left\">\n",
    "Use conda to list the packages in your presently activated environment and determine whether pandas is installed, and if so, which version.\n",
    "</div></div>"
   ]
  },
  {
   "cell_type": "markdown",
   "metadata": {},
   "source": [
    "## Finding new Packages"
   ]
  },
  {
   "cell_type": "markdown",
   "metadata": {},
   "source": [
    "Packages come from ***\"channels\"***, which are paths on servers.\n",
    "* The default server is **`https://conda.anaconda.org/`**\n",
    "* The default channel is called **`defaults`**"
   ]
  },
  {
   "cell_type": "markdown",
   "metadata": {},
   "source": [
    "*Note: We will see more on **channels** when we discuss Anaconda Cloud and Anaconda Repository.*"
   ]
  },
  {
   "cell_type": "markdown",
   "metadata": {},
   "source": [
    "* Listing packages available for install\n",
    "    * `conda search` (and `conda install`) by default starts with the `default` channel, http://conda.anaconda.org/\n",
    "    * `conda search --help`\n",
    "    * `conda search -f python`"
   ]
  },
  {
   "cell_type": "markdown",
   "metadata": {},
   "source": [
    "<img src='img/topics/Exercise.png' align='left'>\n",
    "<div class='alert alert-warning' align=\"center\">\n",
    "<font size=\"+2\">Search for the Pandas package</font>\n",
    "\n",
    "<br/><br/>\n",
    "<div style=\"padding-left: 10%\" align=\"left\">\n",
    "Use conda to search for the pandas package, version 0.18, on anaconda.org and determine whether it is available for install.\n",
    "</div></div>"
   ]
  },
  {
   "cell_type": "markdown",
   "metadata": {},
   "source": [
    "```\n",
    "conda search pandas\n",
    "```"
   ]
  },
  {
   "cell_type": "markdown",
   "metadata": {},
   "source": [
    "## Adding and Updating Packages"
   ]
  },
  {
   "cell_type": "markdown",
   "metadata": {},
   "source": [
    "* Adding a (specific) package to a (specific) environment\n",
    "    * `conda install --help`\n",
    "    * `conda install -n py3-env pandas=0.16`\n"
   ]
  },
  {
   "cell_type": "markdown",
   "metadata": {},
   "source": [
    "<img src='img/topics/Exercise.png' align='left'>\n",
    "<div class='alert alert-warning' align=\"center\">\n",
    "<font size=\"+2\">Install Pandas</font>\n",
    "\n",
    "<br/><br/>\n",
    "<div style=\"padding-left: 10%\" align=\"left\">\n",
    "Use conda to install pandas=0.16 into the `py3-env` environment.\n",
    "</div></div>"
   ]
  },
  {
   "cell_type": "markdown",
   "metadata": {},
   "source": [
    "* Updating a package\n",
    "    * `conda update --help`\n",
    "    * `conda update -n py3-env pandas`"
   ]
  },
  {
   "cell_type": "markdown",
   "metadata": {},
   "source": [
    "<img src='img/topics/Exercise.png' align='left'>\n",
    "<div class='alert alert-warning' align=\"center\">\n",
    "<font size=\"+2\">Update Pandas</font>\n",
    "\n",
    "<br/><br/>\n",
    "<div style=\"padding-left: 10%\" align=\"left\">\n",
    "Use conda to update pandas to the latest version within `py3-env` environment.\n",
    "</div></div>"
   ]
  },
  {
   "cell_type": "markdown",
   "metadata": {},
   "source": [
    "* Using `pip` within a Conda environment\n",
    "    * `conda install pip`\n",
    "    * `pip install git`"
   ]
  },
  {
   "cell_type": "markdown",
   "metadata": {},
   "source": [
    "* Installing non-Python packages\n",
    "    * `conda install -n r-env numpy`"
   ]
  },
  {
   "cell_type": "markdown",
   "metadata": {},
   "source": [
    "## Removing Packages"
   ]
  },
  {
   "cell_type": "markdown",
   "metadata": {},
   "source": [
    "* Removing a single package from an environment\n",
    "    * `conda remove -n r-env numpy`"
   ]
  },
  {
   "cell_type": "markdown",
   "metadata": {},
   "source": [
    "# Activating Environments"
   ]
  },
  {
   "cell_type": "markdown",
   "metadata": {},
   "source": [
    "## Activate an environment"
   ]
  },
  {
   "cell_type": "markdown",
   "metadata": {},
   "source": [
    "You must activate an environment before you can use it.\n",
    "\n",
    "In Linux or Mac OS:\n",
    "```\n",
    "source activate py3-env\n",
    "conda env list\n",
    "python --version\n",
    "```"
   ]
  },
  {
   "cell_type": "markdown",
   "metadata": {},
   "source": [
    "In Windows:\n",
    "```\n",
    "activate py3-env\n",
    "conda env list\n",
    "python --version\n",
    "```"
   ]
  },
  {
   "cell_type": "markdown",
   "metadata": {},
   "source": [
    "## Deactivate an environment"
   ]
  },
  {
   "cell_type": "markdown",
   "metadata": {},
   "source": [
    "In Linux or Mac OS:\n",
    "\n",
    "```\n",
    "source deactivate\n",
    "conda env list\n",
    "python --version\n",
    "```"
   ]
  },
  {
   "cell_type": "markdown",
   "metadata": {},
   "source": [
    "In Windows:\n",
    "\n",
    "```\n",
    "deactivate\n",
    "conda env list\n",
    "python --version\n",
    "```"
   ]
  },
  {
   "cell_type": "markdown",
   "metadata": {},
   "source": [
    "# Environments and the System Path"
   ]
  },
  {
   "cell_type": "markdown",
   "metadata": {},
   "source": [
    "To understand how Conda switches between, or \"activates\", environments, and to appreciate and avoid some related pitfalls, we must understand a little about **the system path**."
   ]
  },
  {
   "cell_type": "markdown",
   "metadata": {},
   "source": [
    "## System `PATH`"
   ]
  },
  {
   "cell_type": "markdown",
   "metadata": {},
   "source": [
    "* Programs installed on computers are files in particular directories.\n",
    "* The system path is simply a list of directories (or \"paths\") that tells your operating system where to search (and in what order) for these programs when you ask it to launch one of a given name.\n",
    "* If a program's install directory is not in the system path, the system will not be able to find the program and thus cannot launch it.\n",
    "* The same holds true for programs or libraries installed as Conda packages. \n",
    "* The default installation directories for conda packages are *not* in the system path, so without updating the path, the system will not be able to find them."
   ]
  },
  {
   "cell_type": "markdown",
   "metadata": {},
   "source": [
    "## Listing and Editing your PATH"
   ]
  },
  {
   "cell_type": "markdown",
   "metadata": {},
   "source": [
    "* In Linux and Mac OSX\n",
    "    * to examine `PATH`: using Terminal: `echo $PATH`\n",
    "    * to edit `PATH`: using Terminal: `export PATH=new_dir:$PATH`\n",
    "* In Windows8\n",
    "    * to examine `PATH`: using cmd: `echo %PATH%`\n",
    "    * to edit `PATH` using cmd: `set PATH=new_dir;%PATH%`\n",
    "    * to edit `PATH` using Windows: `Control Panel > System > Advanced > Environment Variables > System Variables > PATH`\n",
    "* In Windows7\n",
    "    * to examine `PATH`: using cmd: `echo %PATH%`\n",
    "    * to edit `PATH` using cmd: `set PATH=new_dir;%PATH%`\n",
    "    * to edit `PATH` using Windows: `Start Menu > System Properties > Advanced System settings > Advanced Tab > Environment Variables > System Variables > PATH`"
   ]
  },
  {
   "cell_type": "markdown",
   "metadata": {},
   "source": [
    "## How does Conda \"activate\" an environment?"
   ]
  },
  {
   "cell_type": "markdown",
   "metadata": {},
   "source": [
    "* A Conda environment name is a label for a directory that contains all the packages that were installed into that environment.\n",
    "* Conda isolates environments by installing collections of packages into isolated directories, and then switches between them by updating your system path.\n",
    "* `conda activate py3-env` modifies the system path so that the system looks in the `py3-env` directory, such that it finds precisely the software packages installed under `py3-env`.\n",
    "*  By default, this path change is temporary, and is lost when we close the shell/terminal.\n",
    "* When we open a new terminal, it uses the system default path, which will only include the root environment installed when we installed Anaconda.\n",
    "* We must always activate a Conda environment in each new shell if we do not want to use the root environment."
   ]
  },
  {
   "cell_type": "markdown",
   "metadata": {},
   "source": [
    "## Path Exercises"
   ]
  },
  {
   "cell_type": "markdown",
   "metadata": {},
   "source": [
    "<img src='img/topics/Exercise.png' align='left'>\n",
    "<div class='alert alert-warning' align=\"center\">\n",
    "<font size=\"+2\">Inspecting paths</font>\n",
    "\n",
    "<br/><br/>\n",
    "<div style=\"padding-left: 10%\" align=\"left\">\n",
    "Activate your `py3-env` environment & inspect your system `PATH` variable. Then, activate your `root` and inspect the system `PATH` variable to see what is changed.\n",
    "</div></div>"
   ]
  },
  {
   "cell_type": "markdown",
   "metadata": {},
   "source": [
    "In Linux or Mac OS:\n",
    "\n",
    "```\n",
    "source activate py3-env\n",
    "echo $PATH\n",
    "source deactivate\n",
    "echo $PATH\n",
    "```"
   ]
  },
  {
   "cell_type": "markdown",
   "metadata": {},
   "source": [
    "In Windows:\n",
    "\n",
    "```batch\n",
    "activate py3-env\n",
    "echo %PATH%\n",
    "deactivate\n",
    "echo %PATH%\n",
    "```"
   ]
  },
  {
   "cell_type": "markdown",
   "metadata": {},
   "source": [
    "<img src='img/topics/Advanced-Concept.png' align='left' style='padding:10x'>\n",
    "<div class=\"alert alert-danger\" align=\"center\">\n",
    "<font size=\"+2\">Advanced Concept</font>\n",
    "\n",
    "<br/><br/>\n",
    "<div style=\"padding-left: 10%\" align=\"left\">\n",
    "For a prettier display you could use Python in command mode like the below (substitute <tt>%PATH%</tt> for <tt>$PATH</tt> on Windows)\n",
    "</div></div>\n",
    "\n",
    "```bash\n",
    "echo $PATH | python -c \"import sys; print(sys.stdin.read().replace(':','\\n'))\"\n",
    "```"
   ]
  },
  {
   "cell_type": "markdown",
   "metadata": {},
   "source": [
    "<img src='img/topics/Exercise.png' align='left'>\n",
    "<div class='alert alert-warning' align=\"center\">\n",
    "<font size=\"+2\">Examining default environments</font>\n",
    "\n",
    "<br/><br/>\n",
    "<div style=\"padding-left: 10%\" align=\"left\">\n",
    "Close your terminal/command-prompt and re-open and test your environment. Reactivate a `conda` environment if needed.\n",
    "</div></div>"
   ]
  },
  {
   "cell_type": "markdown",
   "metadata": {},
   "source": [
    "Exit and reopen terminal/command prompt.\n",
    "```\n",
    "conda env list # note root is activated\n",
    "command -v python\n",
    "```"
   ]
  },
  {
   "cell_type": "markdown",
   "metadata": {},
   "source": [
    "In Linux or Mac OS:\n",
    "```\n",
    "source activate py2-env\n",
    "```"
   ]
  },
  {
   "cell_type": "markdown",
   "metadata": {},
   "source": [
    "In Windows:\n",
    "```\n",
    "activate py2-env\n",
    "```"
   ]
  },
  {
   "cell_type": "markdown",
   "metadata": {},
   "source": [
    "Exit and reopen terminal/command prompt.\n",
    "```\n",
    "conda env list # note py2-env is activated\n",
    "where python\n",
    "```"
   ]
  },
  {
   "cell_type": "markdown",
   "metadata": {},
   "source": [
    "<img src='img/topics/Exercise.png' align='left'>\n",
    "<div class='alert alert-warning' align=\"center\">\n",
    "<font size=\"+2\">Examining environments in different terminals</font>\n",
    "\n",
    "<br/><br/>\n",
    "<div style=\"padding-left: 10%\" align=\"left\">\n",
    "Open two separate terminal/command prompts and activate different environments in different shells simultaneously.\n",
    "</div></div>"
   ]
  },
  {
   "cell_type": "markdown",
   "metadata": {},
   "source": [
    "In Linux or Mac OS in the first terminal:\n",
    "```\n",
    "source activate py2-env\n",
    "conda env list\n",
    "```"
   ]
  },
  {
   "cell_type": "markdown",
   "metadata": {},
   "source": [
    "In Linux or Mac OS in the second terminal:\n",
    "```\n",
    "source activate r-env\n",
    "conda env list\n",
    "```"
   ]
  },
  {
   "cell_type": "markdown",
   "metadata": {},
   "source": [
    "In Windows in the first terminal:\n",
    "```\n",
    "activate py2-env\n",
    "conda env list\n",
    "```"
   ]
  },
  {
   "cell_type": "markdown",
   "metadata": {},
   "source": [
    "In Windows in the second terminal:\n",
    "```\n",
    "activate r-env\n",
    "conda env list\n",
    "```"
   ]
  },
  {
   "cell_type": "markdown",
   "metadata": {},
   "source": [
    "---\n",
    "*Copyright Continuum 2012-2016 All Rights Reserved.*"
   ]
  }
 ],
 "metadata": {
  "anaconda-cloud": {},
  "kernelspec": {
   "display_name": "Python [default]",
   "language": "python",
   "name": "python3"
  },
  "language_info": {
   "codemirror_mode": {
    "name": "ipython",
    "version": 3
   },
   "file_extension": ".py",
   "mimetype": "text/x-python",
   "name": "python",
   "nbconvert_exporter": "python",
   "pygments_lexer": "ipython3",
   "version": "3.5.2"
  }
 },
 "nbformat": 4,
 "nbformat_minor": 0
}
