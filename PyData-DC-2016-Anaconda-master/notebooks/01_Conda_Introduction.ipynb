{
 "cells": [
  {
   "cell_type": "markdown",
   "metadata": {},
   "source": [
    "<img src='img/anaconda-logo.png' align='left' style=\"padding:10px\">\n",
    "<br>\n",
    "*Copyright Continuum 2012-2016 All Rights Reserved.*"
   ]
  },
  {
   "cell_type": "markdown",
   "metadata": {},
   "source": [
    "# Conda: Introduction"
   ]
  },
  {
   "cell_type": "markdown",
   "metadata": {},
   "source": [
    "> Conda is a package and environment manager that enables users to quickly find, install, and update packages and manage their dependencies.\n",
    "\n",
    "> The conda command line interface (CLI) is the primary tool for managing multiple environments and the various and different packages and versions within each.\n",
    "\n",
    "<img src='./img/conda_logo.svg'>"
   ]
  },
  {
   "cell_type": "markdown",
   "metadata": {},
   "source": [
    "## Table of Contents\n",
    "* [Conda: Introduction](#Conda:-Introduction)\n",
    "* [Lesson Conventions](#Lesson-Conventions)\n",
    "* [Conda and Anaconda](#Conda-and-Anaconda)\n",
    "\t* [Conda Key Concepts](#Conda-Key-Concepts)\n",
    "\t* [Anaconda as a collection of packages](#Anaconda-as-a-collection-of-packages)\n",
    "\t* [Conda as a package and as a package manager](#Conda-as-a-package-and-as-a-package-manager)\n",
    "\t* [Conda as a command-line interface](#Conda-as-a-command-line-interface)\n",
    "* [Getting started](#Getting-started)\n",
    "* [Conda Lessons](#Conda-Lessons)\n",
    "\t* [Using conda environments](#Using-conda-environments)\n",
    "\t* [Managing conda environments](#Managing-conda-environments)\n",
    "\t* [Sharing Environments and Packages](#Sharing-Environments-and-Packages)\n",
    "\t* [Creating Packages](#Creating-Packages)\n"
   ]
  },
  {
   "cell_type": "markdown",
   "metadata": {},
   "source": [
    "# Key Concepts"
   ]
  },
  {
   "cell_type": "markdown",
   "metadata": {},
   "source": [
    "<img src='img/topics/Essential-Concept.png' align='left'>\n",
    "<div class='alert alert-info' align=\"left\">\n",
    "<div style=\"padding-left: 10%\" align=\"left\">\n",
    "<font size=\"+1\">A <em>package manager</em> is a program used to download and install working software (along with its recursive dependencies).</font>\n",
    "</div></div>"
   ]
  },
  {
   "cell_type": "markdown",
   "metadata": {},
   "source": [
    "<img src='img/topics/Essential-Concept.png' align='left'>\n",
    "<div class='alert alert-info' align=\"center\">\n",
    "<div style=\"padding-left: 10%\" align=\"left\">\n",
    "<font size=\"+1\"><em>Environments</em> are isolated directories and shell configurations that allow incompatible versions of software (and/or their dependencies) to be maintained on the same computer system without conflicts.</font>\n",
    "</div></div>"
   ]
  },
  {
   "cell_type": "markdown",
   "metadata": {},
   "source": [
    "<img src='img/topics/Advanced-Concept.png' align='left' style='padding:10x'>\n",
    "<div class=\"alert alert-danger\" align=\"center\">\n",
    "<div style=\"padding-left: 10%\" align=\"left\">\n",
    "<font size=\"+1\">Conda is <i>both</i> a package manager <em>and</em> an environment manager. It manages distinct packages within isolated environments so that incompatible package versions can be maintained without hassle.</font>\n",
    "</div></div>\n"
   ]
  },
  {
   "cell_type": "markdown",
   "metadata": {},
   "source": [
    "# Anaconda and Conda"
   ]
  },
  {
   "cell_type": "markdown",
   "metadata": {},
   "source": [
    "## The Anaconda Platform"
   ]
  },
  {
   "cell_type": "markdown",
   "metadata": {},
   "source": [
    "[Anaconda](http://continuum.io/anaconda) is the leading open data science platform. It was created by Continuum, and is built upon a foundation of open source. Higher tiers of the stack form the Enterprise products which Continuum creates to help empower data scientists."
   ]
  },
  {
   "cell_type": "markdown",
   "metadata": {},
   "source": [
    "## The Anaconda Distribution"
   ]
  },
  {
   "cell_type": "markdown",
   "metadata": {},
   "source": [
    "The foundation of the Anaconda Platform is a free Anaconda distribution, a [collection of open source software packages](http://docs.continuum.io/anaconda/pkg-docs) including conda, conda-build, and Python. \n",
    "\n",
    "In addition to these basic packages, Anaconda includes over 150 automatically installed scientific packages and their dependencies.\n",
    "\n",
    "Even more, Anaconda provides access to hundreds of additional scientific packages which can be installed individually with the `conda install` command."
   ]
  },
  {
   "cell_type": "markdown",
   "metadata": {},
   "source": [
    "Miniconda is a small “bootstrap” collection that includes only conda, conda-build, and Python. It still provides access to everything in Anaconda, including over 400 scientific packages and their dependencies, which can be installed individually with the `conda install` command."
   ]
  },
  {
   "cell_type": "markdown",
   "metadata": {},
   "source": [
    "## Conda as a package and package manager"
   ]
  },
  {
   "cell_type": "markdown",
   "metadata": {},
   "source": [
    "Conda is one of the open source software packages installed as part of Anaconda and Miniconda distributions.\n",
    "\n",
    "Conda itself is a tool for package management and environment management.\n",
    "\n",
    "It enables you to install and switch between multiple versions of software packages and their dependencies. \n",
    "\n",
    "Conda works on Linux, OS X and Windows, and though it was originally created for Python programs, it can package and distribute any software written in any language, or mix of languages."
   ]
  },
  {
   "cell_type": "markdown",
   "metadata": {},
   "source": [
    "## Conda as a command-line interface"
   ]
  },
  {
   "cell_type": "markdown",
   "metadata": {},
   "source": [
    "The `conda` command-line interface (CLI) is the primary interface for managing Anaconda and Miniconda package installations. \n",
    "\n",
    "It can query and search the Anaconda package index and current Anaconda installation, create new conda environments, and install and update packages into existing conda environments."
   ]
  },
  {
   "cell_type": "markdown",
   "metadata": {},
   "source": [
    "## Package Channels"
   ]
  },
  {
   "cell_type": "markdown",
   "metadata": {},
   "source": [
    "The additional packages installable using conda are distributed via \"channels\", such as Anaconda Cloud, the public repository, or private instances of Anaconda Repository."
   ]
  },
  {
   "cell_type": "markdown",
   "metadata": {},
   "source": [
    "# Getting Started"
   ]
  },
  {
   "cell_type": "markdown",
   "metadata": {},
   "source": [
    "## Configuring Anaconda"
   ]
  },
  {
   "cell_type": "markdown",
   "metadata": {},
   "source": [
    "Review the instructions in the following files:\n",
    "\n",
    "* [Windows Setup](../SETUP_WINDOWS.md)\n",
    "* [Linux Setup](../SETUP_LINUX.md)\n"
   ]
  },
  {
   "cell_type": "markdown",
   "metadata": {},
   "source": [
    "* The default channel for package distribution is hosted at \"https://api.anaconda.org\"\n",
    "* For this course, we'll also use an instance of Anaconda Repository to host packages for install."
   ]
  },
  {
   "cell_type": "markdown",
   "metadata": {},
   "source": [
    "To activate the private AWS repo run this command.\n",
    "\n",
    "```bash\n",
    "anaconda config --set default_site aws\n",
    "```"
   ]
  },
  {
   "cell_type": "markdown",
   "metadata": {},
   "source": [
    "In order to install packages from channels on the Continuum servers re-activate the anaconda.org url.\n",
    "\n",
    "```bash\n",
    "anaconda config --set default_site continuum\n",
    "```"
   ]
  },
  {
   "cell_type": "markdown",
   "metadata": {},
   "source": [
    "## Updating Anaconda"
   ]
  },
  {
   "cell_type": "markdown",
   "metadata": {},
   "source": [
    "<img src='img/topics/Exercise.png' align='left'>\n",
    "<div class='alert alert-warning' align=\"center\">\n",
    "<font size=\"+2\">Upgrade conda and Anaconda</font>\n",
    "\n",
    "<br/><br/>\n",
    "<div style=\"padding-left: 10%\" align=\"left\">\n",
    "Use conda to upgrade itself and the Anaconda distribution by running the following commands in a terminal. Check the version before and after:\n",
    "\n",
    "<pre>\n",
    "conda --version\n",
    "</pre>\n",
    "</div></div>"
   ]
  },
  {
   "cell_type": "markdown",
   "metadata": {},
   "source": [
    "```bash\n",
    "conda update conda\n",
    "conda update anaconda\n",
    "```"
   ]
  },
  {
   "cell_type": "markdown",
   "metadata": {},
   "source": [
    "```bash\n",
    "conda --version\n",
    "```"
   ]
  },
  {
   "cell_type": "markdown",
   "metadata": {},
   "source": [
    "* New package versions will be downloaded & installed into the root environment\n",
    "* Updating Anaconda will not upgrade from Python 2.7 to Python 3 nor from Python 3.4 to Python 3.5."
   ]
  },
  {
   "cell_type": "markdown",
   "metadata": {},
   "source": [
    "<img src='img/topics/Best-Practice.png' align='left' style='padding:10x'>\n",
    "<div class='alert alert-success' align=\"center\">\n",
    "<div style=\"padding-left: 10%\" align=\"left\">\n",
    "<font size=\"+1\">While there are ways of upgrading Python in the root environment, the best option may be to create a separate Conda environment.</font>\n",
    "</div></div>"
   ]
  },
  {
   "cell_type": "markdown",
   "metadata": {},
   "source": [
    "# Interfaces"
   ]
  },
  {
   "cell_type": "markdown",
   "metadata": {},
   "source": [
    "\n",
    "\n",
    "<img src=\"img/Jupyter-launch-terminal.png\" width=\"50%\" align=\"right\"/>\n",
    "\n",
    "## Graphical Interfaces\n",
    "\n",
    "* Jupyter: Much of the course will be presented within Jupyter notebooks, a web client interface that supports a combination of source code, data visualization, and rich text such as mark-down, HTML, and $\\LaTeX$, all in the same document.\n",
    "\n",
    "* Navigator: Anaconda Navigator is a GUI the builds upon the conda CLI, and provides a graphical way to perform the most common tasks conda can accomplish.\n",
    "\n",
    "## Command Line Interfaces\n",
    "\n",
    "\n",
    "* System shell: many of the examples throughout the course rely on a system shell, such as the Bash shell within a terminal application on either Linux or Mac OSX, or the command prompt on Windows.\n",
    "\n",
    "    * OSX CLI: `[iTerm](https://www.iterm2.com/)`\n",
    "    * Windows CLI: command prompt, `cmd.exe`\n",
    "    * Linux CLI: bash shell in any one of many terminal apps.\n",
    "\n",
    "* `conda` is a command-line tool that runs within a system shell.\n",
    "* `python` when launched from the shell, provides a Python interptreter that is a CLI.\n",
    "* `IPython` is another Python shell\n",
    "* `Jupyter Notebook`: there is a terminal that can be run from within a Jupyter notebook."
   ]
  },
  {
   "cell_type": "markdown",
   "metadata": {},
   "source": [
    "# Conda Lessons"
   ]
  },
  {
   "cell_type": "markdown",
   "metadata": {},
   "source": [
    "## Using conda environments"
   ]
  },
  {
   "cell_type": "markdown",
   "metadata": {},
   "source": [
    "To begin, we can create some Conda environments and practice using them to run example scripts.\n",
    "\n",
    "<a href='./02_Conda_Using_Environments.ipynb' class='btn btn-primary btn-lg'>Using Conda Environments</a>"
   ]
  },
  {
   "cell_type": "markdown",
   "metadata": {},
   "source": [
    "## Managing conda environments"
   ]
  },
  {
   "cell_type": "markdown",
   "metadata": {},
   "source": [
    "Once we have some familiarity with Conda environments, we can learn more about how to use Conda to work with them.\n",
    "\n",
    "<a href='./03_Conda_Managing_Environments.ipynb' class='btn btn-primary btn-lg'>Managing Conda Environments</a>"
   ]
  },
  {
   "cell_type": "markdown",
   "metadata": {},
   "source": [
    "## Sharing Environments and Packages"
   ]
  },
  {
   "cell_type": "markdown",
   "metadata": {},
   "source": [
    "Once we have some familiarity with managing packages and environments, we can learn how to share them with others, including your future self who will be concerned about **reproducibility**\n",
    "\n",
    "<a href='./04_Conda_Sharing.ipynb' class='btn btn-primary btn-lg'>Sharing Environments and Packages</a>"
   ]
  },
  {
   "cell_type": "markdown",
   "metadata": {},
   "source": [
    "## Creating Packages"
   ]
  },
  {
   "cell_type": "markdown",
   "metadata": {},
   "source": [
    "Finally, we will see how to create both Python packages and conda packages.\n",
    "\n",
    "<a href='./05_Conda_Packages.ipynb' class='btn btn-primary btn-lg'>Creating Packages</a>"
   ]
  },
  {
   "cell_type": "markdown",
   "metadata": {},
   "source": [
    "---\n",
    "*Copyright Continuum 2012-2016 All Rights Reserved.*"
   ]
  }
 ],
 "metadata": {
  "anaconda-cloud": {},
  "kernelspec": {
   "display_name": "Python [default]",
   "language": "python",
   "name": "python3"
  },
  "language_info": {
   "codemirror_mode": {
    "name": "ipython",
    "version": 3
   },
   "file_extension": ".py",
   "mimetype": "text/x-python",
   "name": "python",
   "nbconvert_exporter": "python",
   "pygments_lexer": "ipython3",
   "version": "3.5.2"
  }
 },
 "nbformat": 4,
 "nbformat_minor": 0
}
