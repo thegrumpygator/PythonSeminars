{
 "cells": [
  {
   "cell_type": "markdown",
   "metadata": {},
   "source": [
    "<img src='img/anaconda-logo.png' align='left' style=\"padding:10px\">\n",
    "<br>\n",
    "*Copyright Continuum 2012-2016 All Rights Reserved.*"
   ]
  },
  {
   "cell_type": "markdown",
   "metadata": {},
   "source": [
    "# Shells and Command-Line Interfaces"
   ]
  },
  {
   "cell_type": "markdown",
   "metadata": {},
   "source": [
    "Both conda an python rely heavily on command-line interfaces and the concept of a shell. This overview of shells provides the necessary prerequisite knowledge needed throughout the rest of the lesson and much of the course."
   ]
  },
  {
   "cell_type": "markdown",
   "metadata": {},
   "source": [
    "## Table of Contents\n",
    "* [Shells and Command-Line Interfaces](#Shells-and-Command-Line-Interfaces)\n",
    "* [What is a Shell?](#What-is-a-Shell?)\n",
    "\t* [Kernel](#Kernel)\n",
    "\t* [Shell](#Shell)\n",
    "\t* [Shells: CLI vs GUI](#Shells:-CLI-vs-GUI)\n",
    "* [Workflows](#Workflows)\n",
    "\t* [Working with a shell](#Working-with-a-shell)\n",
    "\t* [Working with a script](#Working-with-a-script)\n",
    "* [System Shells](#System-Shells)\n",
    "\t* [Windows](#Windows)\n",
    "\t* [Mac](#Mac)\n",
    "\t* [Linux](#Linux)\n",
    "* [Python Shells](#Python-Shells)\n",
    "\t* [python shell (>>>)](#python-shell-%28>>>%29)\n",
    "\t* [IPython shell (In [1]:)](#IPython-shell-%28In-[1]:%29)\n",
    "\t* [IPython Notebook](#IPython-Notebook)\n",
    "\t* [Jupyter Notebook](#Jupyter-Notebook)\n",
    "* [Optional: Python instead of the System Shell?](#Optional:-Python-instead-of-the-System-Shell?)\n"
   ]
  },
  {
   "cell_type": "markdown",
   "metadata": {},
   "source": [
    "# What is a Shell?"
   ]
  },
  {
   "cell_type": "markdown",
   "metadata": {},
   "source": [
    "The terms \"shell\" and \"kernel\" come from nuts or seeds and provide a nice metaphor: \n",
    "* e.g. pistachio nuts have an outer husk (shell) and edible center (kernel).\n",
    "\n",
    "The phrases \"kernel\" and \"shell\" are used loosely in many contexts:\n",
    "* operating systems: e.g. \"the NT kernel inside the Windows shell\"\n",
    "* python: e.g. \"the python3 kernel inside the python shell\"\n",
    "* Jupyter: e.g. \"the IPython kernel inside the Jupyter shell\"\n",
    "* nuts: e.g. \"pistachio kernel inside the pistachio shell\"\n",
    "\n",
    "Example: What are the kernel and shell in an operating system?\n",
    "* Every operating system has some form of \"shell\" and \"kernel\"\n",
    "* The kernel mediates interactions between the hardware (cpu, ram, hdd, keyboard, monitor) and the programs running\n",
    "* The shell is how you interact with the kernel and running programs\n",
    "\n",
    "\n",
    "> human ↔︎ (keyboard,screen,pointer) ↔︎ shell ↔︎ kernel ↔︎ (cpu,ram,hdd)"
   ]
  },
  {
   "cell_type": "markdown",
   "metadata": {},
   "source": [
    "## Kernel"
   ]
  },
  {
   "cell_type": "markdown",
   "metadata": {},
   "source": [
    "> \"kernel is the lowest-level, or \"inner-most\" component of most operating systems.\"\n",
    "\n",
    "> \"kernel is a program that manages input/output requests from software, and translates them into instructions for the CPU\"\n",
    "\n",
    "> <https://en.wikipedia.org/wiki/Kernel_(operating_system)>\n",
    "\n",
    "Example OS Kernels:\n",
    "* Linux: FreeBSD\n",
    "* OSX: XNU (2000-present), Darwin, Mach\n",
    "* Windows: [MS-DOS (1981-2000)](https://en.wikipedia.org/wiki/MS-DOS), [9x kernel (1990-1999)](https://en.wikipedia.org/wiki/Architecture_of_Windows_9x), [NT kernel (2000-present)](https://en.wikipedia.org/wiki/Architecture_of_Windows_NT)\n",
    "\n",
    "Example Language Kernels \"inside\" the Jupyter Notebook shell:\n",
    "* Python\n",
    "* R\n",
    "* Julia\n",
    "* MATLAB\n",
    "* Javascript\n",
    "* Ruby\n",
    "* Perl\n",
    "* Bash"
   ]
  },
  {
   "cell_type": "markdown",
   "metadata": {},
   "source": [
    "## Shell"
   ]
  },
  {
   "cell_type": "markdown",
   "metadata": {},
   "source": [
    "In context of operating systems:\n",
    "> \"A shell is a user interface for access to an operating system's services.\"\n",
    "> <https://en.wikipedia.org/wiki/Shell_(computing)>\n",
    "\n",
    "*Note: Common usage of the word, \"shell\" usually implies \"CLI Shell\", but...*\n",
    "\n",
    "\n",
    "There are both \"CLI\" and \"GUI\" shells.\n",
    "* CLI = Command Line Interface\n",
    "* GUI = Graphical User Interface\n",
    "\n",
    "Example CLI Shells:\n",
    "* Linux/OSX/Posix: sh, bash, csh, tcsh, zsh\n",
    "* Windows: DOS, Command Prompt\n",
    "\n",
    "Example GUI Shells:\n",
    "* Linux: Gnome, KDE, Xwindows\n",
    "* OSX: Quartz, Aqua\n",
    "* Windows: \"Windows shell\" (desktop environment, start menu, and task bar)\n",
    "\n",
    "*Note: Herein, the system CLI shell \"prompt\" is assumed to be the character `$`, but yours may be different*"
   ]
  },
  {
   "cell_type": "markdown",
   "metadata": {},
   "source": [
    "##  Shells: CLI vs GUI"
   ]
  },
  {
   "cell_type": "markdown",
   "metadata": {},
   "source": [
    "Two common categories of shells: \n",
    "\n",
    "* graphical user interfaces (GUI)\n",
    "* command-line interfaces (CLI)"
   ]
  },
  {
   "cell_type": "markdown",
   "metadata": {},
   "source": [
    "The nature of CLI shells:\n",
    "* Steeper learning curve\n",
    "* Automation of repetitive tasks\n",
    "* Access to more of the system\n",
    "* More efficient if you type well\n",
    "* Usually comes with a scripting language\n",
    "* Very efficient use of system resources\n",
    "* Very efficient for remote connections, slow networks\n",
    "* Often easier for the seeing impared\n",
    "\n",
    "The nature of GUI shells:\n",
    "* Easier to learn\n",
    "* Limited view of the system\n",
    "* Very difficult to automate\n",
    "* Very inefficient for repetitive tasks\n",
    "* Often more efficient if you struggle with typing\n",
    "* Humans are really good at processing visual information\n",
    "* Often easier for the mobility impared"
   ]
  },
  {
   "cell_type": "markdown",
   "metadata": {},
   "source": [
    "# Workflows"
   ]
  },
  {
   "cell_type": "markdown",
   "metadata": {},
   "source": [
    "## Working with a shell"
   ]
  },
  {
   "cell_type": "markdown",
   "metadata": {},
   "source": [
    "* Working in the shell can be like using a calculator\n",
    "* The work is not preserved after you turn off\n",
    "* Reproducibility is unlikely"
   ]
  },
  {
   "cell_type": "markdown",
   "metadata": {},
   "source": [
    "## Working with a script"
   ]
  },
  {
   "cell_type": "markdown",
   "metadata": {},
   "source": [
    "* Write code in a file\n",
    "* Execute the file from a shell\n",
    "* Code is saved for reuse, automation, reproducibility\n",
    "* Scripts can interact with the system shell in powerful ways"
   ]
  },
  {
   "cell_type": "markdown",
   "metadata": {},
   "source": [
    "# System Shells"
   ]
  },
  {
   "cell_type": "markdown",
   "metadata": {},
   "source": [
    "Throughout the course, we'll be using your system shell, so let's take a moment to make sure you can launch it. WOrk through the section of exercises below that matches your computer: Windows, Mac, or Linux:"
   ]
  },
  {
   "cell_type": "markdown",
   "metadata": {},
   "source": [
    "## Windows"
   ]
  },
  {
   "cell_type": "markdown",
   "metadata": {},
   "source": [
    "The most commonly available (CLI) shell is `cmd.exe`, commonly called `Command Prompt`:\n",
    "* Start Menu > Command Prompt\n",
    "* Common path location to this program is `C:\\Windows\\System32\\cmd.exe`"
   ]
  },
  {
   "cell_type": "markdown",
   "metadata": {},
   "source": [
    "<img src='img/topics/Exercise.png' align='left'>\n",
    "<div class='alert alert-warning' align=\"center\">\n",
    "<font size=\"+2\">Launch the Command Prompt</font>\n",
    "\n",
    "<br/><br/>\n",
    "<div style=\"padding-left: 10%\" align=\"left\">\n",
    "Use the instuctions above to launch the command prompt.\n",
    "\n",
    "<ul>\n",
    "  <li>Start Menu > Run</li>\n",
    "  <li>cmd</li>\n",
    "</ul>\n",
    "</div></div>"
   ]
  },
  {
   "cell_type": "markdown",
   "metadata": {},
   "source": [
    "<img src='img/topics/Exercise.png' align='left'>\n",
    "<div class='alert alert-warning' align=\"center\">\n",
    "<font size=\"+2\">Determine the location of cmd</font>\n",
    "\n",
    "<br/><br/>\n",
    "<div style=\"padding-left: 10%\" align=\"left\">\n",
    "Use your Windows system shell to determine the location of the cmd executable with the following command: `where cmd`\n",
    "</div></div>"
   ]
  },
  {
   "cell_type": "markdown",
   "metadata": {},
   "source": [
    "<img src='img/topics/Exercise.png' align='left'>\n",
    "<div class='alert alert-warning' align=\"center\">\n",
    "<font size=\"+2\">Create a Windows script to launch cmd</font>\n",
    "\n",
    "<br/><br/>\n",
    "<div style=\"padding-left: 10%\" align=\"left\">\n",
    "Use a text editor to create a new text file on desktop called `launch_cmd.txt` and paste the following text into the file: `cmd`. Finally, rename the file to `launch_cmd.bat`. Test it by \n",
    "double-clicking the file\n",
    "</div></div>"
   ]
  },
  {
   "cell_type": "markdown",
   "metadata": {},
   "source": [
    "<img src='img/topics/Exercise.png' align='left'>\n",
    "<div class='alert alert-warning' align=\"center\">\n",
    "<font size=\"+2\">Create a Windows script to launch IPython</font>\n",
    "\n",
    "<br/><br/>\n",
    "<div style=\"padding-left: 10%\" align=\"left\">\n",
    "Use a text editor to create a new text file on desktop called `launch_ipython.txt` and paste the following text into the file: `ipython`. Finally, rename the file to `launch_ipython.bat`. Test it by double-clicking the file.\n",
    "</div></div>"
   ]
  },
  {
   "cell_type": "markdown",
   "metadata": {},
   "source": [
    "<img src='img/topics/Exercise.png' align='left'>\n",
    "<div class='alert alert-warning' align=\"center\">\n",
    "<font size=\"+2\">Create a Windows script to launch Jupyter</font>\n",
    "\n",
    "<br/><br/>\n",
    "<div style=\"padding-left: 10%\" align=\"left\">\n",
    "Use a text editor to create a new text file on desktop called `launch_notebook.txt` and paste the following text into the file: `jupyter notebook`. Finally, rename the file to `launch_notebook.bat`. Test it by double-clicking the file.\n",
    "</div></div>"
   ]
  },
  {
   "cell_type": "markdown",
   "metadata": {},
   "source": [
    "## Mac"
   ]
  },
  {
   "cell_type": "markdown",
   "metadata": {},
   "source": [
    "OSX comes with the Terminal.app\n",
    "* Use the Finder to launch `/Applications/Utilities/Terminal.app`\n",
    "* The terminal application is a shell for running various shells\n",
    "* The default shell is `bash`\n",
    "\n",
    "Alterantively, many good third part terminal apps exist:\n",
    "\n",
    "* iTerm is a popular choice: https://www.iterm2.com/downloads.html"
   ]
  },
  {
   "cell_type": "markdown",
   "metadata": {},
   "source": [
    "<img src='img/topics/Exercise.png' align='left'>\n",
    "<div class='alert alert-warning' align=\"center\">\n",
    "<font size=\"+2\">Create a shortcut to your Terminal on the Dock or Desktop</font>\n",
    "\n",
    "<br/><br/>\n",
    "<div style=\"padding-left: 10%\" align=\"left\">\n",
    "User the Finder to add a short cut to either `/Applications/iTerm.app` or `/Applications/Utilities/Terminal.app` to either the Dock or the Desktop.\n",
    "</div></div>"
   ]
  },
  {
   "cell_type": "markdown",
   "metadata": {},
   "source": [
    "<img src='img/topics/Exercise.png' align='left'>\n",
    "<div class='alert alert-warning' align=\"center\">\n",
    "<font size=\"+2\">Use the terminal to locate python</font>\n",
    "\n",
    "<br/><br/>\n",
    "<div style=\"padding-left: 10%\" align=\"left\">\n",
    "Open a terminal app (Terminal.app or iTerm.app) and use the system shell to determine the location of python. (`which python`)\n",
    "</div></div>"
   ]
  },
  {
   "cell_type": "markdown",
   "metadata": {},
   "source": [
    "<img src='img/topics/Exercise.png' align='left'>\n",
    "<div class='alert alert-warning' align=\"center\">\n",
    "<font size=\"+2\">Use the terminal to locate IPython</font>\n",
    "\n",
    "<br/><br/>\n",
    "<div style=\"padding-left: 10%\" align=\"left\">\n",
    "Open a terminal app (Terminal.app or iTerm.app) and use the system shell to determine the location of IPython. (`which ipython`)\n",
    "</div></div>"
   ]
  },
  {
   "cell_type": "markdown",
   "metadata": {},
   "source": [
    "<img src='img/topics/Exercise.png' align='left'>\n",
    "<div class='alert alert-warning' align=\"center\">\n",
    "<font size=\"+2\">Create a script to launch IPython</font>\n",
    "\n",
    "<br/><br/>\n",
    "<div style=\"padding-left: 10%\" align=\"left\">\n",
    "Create a new text file on your Desktop called `launch_ipython.txt`, and enter the following text below into the file: `ipython`\n",
    "</div></div>"
   ]
  },
  {
   "cell_type": "markdown",
   "metadata": {},
   "source": [
    "* Rename the file to `launch_ipython.sh`\n",
    "* use the terminal to change the file permissions\n",
    "\n",
    "```bash\n",
    "chmod a+x launch_ipython.sh\n",
    "```"
   ]
  },
  {
   "cell_type": "markdown",
   "metadata": {},
   "source": [
    "* in Finder, right-click your file and select \"Open with\" and then \"Other...\".\n",
    "* switch from \"Recommended Applications\" to \"All Applications\".\n",
    "* Select \"Terminal\" as the application to associate all \".sh\" files.\n",
    "* check \"Always Open With\"\n",
    "* double-click on script to run it"
   ]
  },
  {
   "cell_type": "markdown",
   "metadata": {},
   "source": [
    "## Linux"
   ]
  },
  {
   "cell_type": "markdown",
   "metadata": {},
   "source": [
    "There are too many variants of Linux to provide specific directions:\n",
    "* Most linux users use a terminal application or a shell daily\n",
    "* Linux can boot straight into a CLI shell, usually bash\n",
    "* When in the GUI shell, like Gnome, right-click on the desktop often provides a context menu with an item called \"Terminal\""
   ]
  },
  {
   "cell_type": "markdown",
   "metadata": {},
   "source": [
    "<img src='img/topics/Exercise.png' align='left'>\n",
    "<div class='alert alert-warning' align=\"center\">\n",
    "<font size=\"+2\">Create a short cut to your terminal application</font>\n",
    "\n",
    "<br/><br/>\n",
    "<div style=\"padding-left: 10%\" align=\"left\">\n",
    "Pick your favorite terminal application, and make sure you have easy access to it. Consider adding a chortcut to your Desktop.\n",
    "</div></div>"
   ]
  },
  {
   "cell_type": "markdown",
   "metadata": {},
   "source": [
    "<img src='img/topics/Exercise.png' align='left'>\n",
    "<div class='alert alert-warning' align=\"center\">\n",
    "<font size=\"+2\">Use your terminal to locate python</font>\n",
    "\n",
    "<br/><br/>\n",
    "<div style=\"padding-left: 10%\" align=\"left\">\n",
    "Open a terminal and use the system shell to determine the location of python. (`which python`)\n",
    "</div></div>"
   ]
  },
  {
   "cell_type": "markdown",
   "metadata": {},
   "source": [
    "# Python Shells"
   ]
  },
  {
   "cell_type": "markdown",
   "metadata": {},
   "source": [
    "Python shells allow you to interact with a \"python intepreter\" which is often spoken of as a \"python kernel\".\n",
    "\n",
    "There are both CLI and GUI shells for python:\n",
    "* python (CLI)\n",
    "* IPython (CLI)\n",
    "* Jupyter notebook (GUI and CLI)"
   ]
  },
  {
   "cell_type": "markdown",
   "metadata": {},
   "source": [
    "## python shell (>>>)"
   ]
  },
  {
   "cell_type": "markdown",
   "metadata": {},
   "source": [
    "The CLI program called `python` is installed by default on almost all operating systems."
   ]
  },
  {
   "cell_type": "markdown",
   "metadata": {},
   "source": [
    "To launch the python shell from your system terminal/command-prompt:\n",
    "```bash\n",
    "python\n",
    "```"
   ]
  },
  {
   "cell_type": "markdown",
   "metadata": {},
   "source": [
    "When you launch the python shell, you should see something similar to the following:\n",
    "\n",
    "```python\n",
    "Python 3.5.2 |Anaconda 4.1.1 (x86_64)| (default, Jul  2 2016, 17:52:12)\n",
    "[GCC 4.2.1 Compatible Apple LLVM 4.2 (clang-425.0.28)] on darwin\n",
    "Type \"help\", \"copyright\", \"credits\" or \"license\" for more information.\n",
    ">>>\n",
    "```"
   ]
  },
  {
   "cell_type": "markdown",
   "metadata": {},
   "source": [
    "Notice the version information."
   ]
  },
  {
   "cell_type": "markdown",
   "metadata": {},
   "source": [
    "To determine the version of python from the system shell without launching a persistent instances of python, run the following command in your system shell:\n",
    "```bash\n",
    "python --version\n",
    "```"
   ]
  },
  {
   "cell_type": "markdown",
   "metadata": {},
   "source": [
    "Now try the same command from within this Jupyter notebook, using the \"bang\" (!) character to \"shell out\":"
   ]
  },
  {
   "cell_type": "code",
   "execution_count": null,
   "metadata": {
    "collapsed": false
   },
   "outputs": [],
   "source": [
    "!python --version"
   ]
  },
  {
   "cell_type": "markdown",
   "metadata": {},
   "source": [
    "<img src='img/topics/Exercise.png' align='left'>\n",
    "<div class='alert alert-warning' align=\"center\">\n",
    "<font size=\"+2\">Use Python to find out about Python</font>\n",
    "\n",
    "<br/><br/>\n",
    "<div style=\"padding-left: 10%\" align=\"left\">\n",
    "Determine where the python interpreter is install, using the following python commands:\n",
    "\n",
    "<pre>\n",
    "import sys\n",
    "print( sys.executable )\n",
    "print( sys.exec_prefix )\n",
    "</pre>\n",
    "</div></div>"
   ]
  },
  {
   "cell_type": "markdown",
   "metadata": {},
   "source": [
    "## IPython shell (In [1]:)"
   ]
  },
  {
   "cell_type": "markdown",
   "metadata": {},
   "source": [
    "The CLI program called `ipython` is not installed by default, but comes with Anaconda. It has many advantages over the regular `python` shell.\n",
    "\n",
    "To launch the IPython shell from your system shell:\n",
    "```bash\n",
    "$ ipython\n",
    "```"
   ]
  },
  {
   "cell_type": "markdown",
   "metadata": {},
   "source": [
    "In the IPython shell:\n",
    "\n",
    "```python\n",
    "Python 3.4.3 |Anaconda 2.3.0 (x86_64)| (default, Mar  6 2015, 12:07:41)\n",
    "Type \"copyright\", \"credits\" or \"license\" for more information.\n",
    "\n",
    "IPython 3.2.1 -- An enhanced Interactive Python.\n",
    "Anaconda is brought to you by Continuum Analytics.\n",
    "Please check out: http://continuum.io/thanks and https://anaconda.org\n",
    "?         -> Introduction and overview of IPython's features.\n",
    "%quickref -> Quick reference.\n",
    "help      -> Python's own help system.\n",
    "object?   -> Details about 'object', use 'object??' for extra details.\n",
    "\n",
    "In [1]: print(\"Hello\")\n",
    "Hello\n",
    "\n",
    "In [2]: \n",
    "```"
   ]
  },
  {
   "cell_type": "markdown",
   "metadata": {},
   "source": [
    "## IPython Notebook"
   ]
  },
  {
   "cell_type": "markdown",
   "metadata": {},
   "source": [
    "The IPython Notebook is an interactive GUI shell, that supports CLI shell commands, all providing a way to interact with the python kernel.\n",
    "\n",
    "To launch the ipython notebook from your system shell:\n",
    "\n",
    "```bash\n",
    "ipython notebook\n",
    "```"
   ]
  },
  {
   "cell_type": "markdown",
   "metadata": {},
   "source": [
    "Then wait for the notebook interface to open as a webpage in your default web-browser. This web session is entirely contained on your local system."
   ]
  },
  {
   "cell_type": "markdown",
   "metadata": {},
   "source": [
    "## Jupyter Notebook"
   ]
  },
  {
   "cell_type": "markdown",
   "metadata": {},
   "source": [
    "Eventually, developers of the **\"IPython Notebook\"** added support for interaction with **other kernels**, along with the Python kernel. Some of the first language kernels added were Julia and R. As a portmanteau of the names (Ju)lia, (Pyt)hon, (R) the project was **renamed \"Jupyter\"**, in part to emphasize that this interactive environment is no longer limited to just python.\n",
    "\n",
    "Also, the developers were mostly scientists, many of whom have spoken to the **inspiration of Galileo**, the first modern physicist, and his notebooks which he used to document both calculations and visual observations of **the moons of Jupiter**."
   ]
  },
  {
   "cell_type": "markdown",
   "metadata": {},
   "source": [
    "A terminal can also be launched from within the Jupyter notebook:"
   ]
  },
  {
   "cell_type": "markdown",
   "metadata": {},
   "source": [
    "<img src=\"img/Jupyter-launch-terminal.png\" width=\"50%\" align=\"left\"/>"
   ]
  },
  {
   "cell_type": "markdown",
   "metadata": {},
   "source": [
    "<img src='img/topics/Exercise.png' align='left'>\n",
    "<div class='alert alert-warning' align=\"center\">\n",
    "<font size=\"+2\">Launch a terminal from the Jupyter Notebook</font>\n",
    "\n",
    "<br/><br/>\n",
    "<div style=\"padding-left: 10%\" align=\"left\">\n",
    "Use the \"New\" menu to launch a terminal. Run the following command from that terminal:\n",
    "<pre>\n",
    "python --version\n",
    "</pre>\n",
    "</div></div>"
   ]
  },
  {
   "cell_type": "markdown",
   "metadata": {},
   "source": [
    "<img src='img/topics/Exercise.png' align='left'>\n",
    "<div class='alert alert-warning' align=\"center\">\n",
    "<font size=\"+2\">Launch a new notebook from the Jupyter Notebook</font>\n",
    "\n",
    "<br/><br/>\n",
    "<div style=\"padding-left: 10%\" align=\"left\">\n",
    "Use the \"New\" menu to launch a new jupyter notebook using the `Python [Root]` environment.</div></div>"
   ]
  },
  {
   "cell_type": "markdown",
   "metadata": {},
   "source": [
    "# Optional: Python instead of the System Shell?"
   ]
  },
  {
   "cell_type": "markdown",
   "metadata": {},
   "source": [
    "Many of the most common system shell tasks can be done within python, in and entirely platform-independent way!"
   ]
  },
  {
   "cell_type": "markdown",
   "metadata": {},
   "source": [
    "<img src='img/topics/Exercise.png' align='left'>\n",
    "<div class='alert alert-warning' align=\"center\">\n",
    "<font size=\"+2\">Use Python to determine your system name</font>\n",
    "\n",
    "<br/><br/>\n",
    "<div style=\"padding-left: 10%\" align=\"left\">\n",
    "Run the following command from a python shell. What did you get? Likely outputs are 'posix', 'nt', 'os2', 'ce', 'java', 'riscos':\n",
    "</div></div>"
   ]
  },
  {
   "cell_type": "code",
   "execution_count": null,
   "metadata": {
    "collapsed": false
   },
   "outputs": [],
   "source": [
    "import os\n",
    "os.name"
   ]
  },
  {
   "cell_type": "markdown",
   "metadata": {},
   "source": [
    "<img src='img/topics/Exercise.png' align='left'>\n",
    "<div class='alert alert-warning' align=\"center\">\n",
    "<font size=\"+2\">Use Python to determine your system kernel</font>\n",
    "\n",
    "<br/><br/>\n",
    "<div style=\"padding-left: 10%\" align=\"left\">\n",
    "Run the following command from a python shell. What did you get? Likely outputs are 'linux2','win32','cygwin','darwin','os2','riscos','atheos':\n",
    "</div></div>"
   ]
  },
  {
   "cell_type": "code",
   "execution_count": null,
   "metadata": {
    "collapsed": false
   },
   "outputs": [],
   "source": [
    "import sys\n",
    "sys.platform"
   ]
  },
  {
   "cell_type": "markdown",
   "metadata": {},
   "source": [
    "<img src='img/topics/Exercise.png' align='left'>\n",
    "<div class='alert alert-warning' align=\"center\">\n",
    "<font size=\"+2\">Use Python to determine your current working directory</font>\n",
    "\n",
    "<br/><br/>\n",
    "<div style=\"padding-left: 10%\" align=\"left\">\n",
    "The current working directory (CWD) can be determined in a platform indepedent way by running for following commands from within a python interpreter/shell:\n",
    "</div></div>"
   ]
  },
  {
   "cell_type": "code",
   "execution_count": null,
   "metadata": {
    "collapsed": false
   },
   "outputs": [],
   "source": [
    "import os\n",
    "os.getcwd()"
   ]
  },
  {
   "cell_type": "markdown",
   "metadata": {},
   "source": [
    "<img src='img/topics/Exercise.png' align='left'>\n",
    "<div class='alert alert-warning' align=\"center\">\n",
    "<font size=\"+2\">Use Python to list files</font>\n",
    "\n",
    "<br/><br/>\n",
    "<div style=\"padding-left: 10%\" align=\"left\">\n",
    "Listing the files in the CWD can be done by running for following commands from within a python interpreter/shell:\n",
    "</div></div>"
   ]
  },
  {
   "cell_type": "code",
   "execution_count": null,
   "metadata": {
    "collapsed": false
   },
   "outputs": [],
   "source": [
    "cwd = os.getcwd()\n",
    "dir_list = os.listdir(cwd)\n",
    "dir_list[0:6]"
   ]
  },
  {
   "cell_type": "markdown",
   "metadata": {},
   "source": [
    "<img src='img/topics/Exercise.png' align='left'>\n",
    "<div class='alert alert-warning' align=\"center\">\n",
    "<font size=\"+2\">Use Python to explore your system</font>\n",
    "\n",
    "<br/><br/>\n",
    "<div style=\"padding-left: 10%\" align=\"left\">\n",
    "Run all of the following examples of python methods for accomplishing the same outcomes as many common system shell commands, and come up with at least one system task not covered here, and use the help for the `os` and `sys` packages to find out how to do it.\n",
    "</div></div>"
   ]
  },
  {
   "cell_type": "code",
   "execution_count": null,
   "metadata": {
    "collapsed": false
   },
   "outputs": [],
   "source": [
    "# Get absolute path\n",
    "os.path.abspath('README')"
   ]
  },
  {
   "cell_type": "code",
   "execution_count": null,
   "metadata": {
    "collapsed": false
   },
   "outputs": [],
   "source": [
    "# Test whether a file exists\n",
    "os.path.exists('README')"
   ]
  },
  {
   "cell_type": "code",
   "execution_count": null,
   "metadata": {
    "collapsed": false
   },
   "outputs": [],
   "source": [
    "# Test whether something is a file\n",
    "os.path.isfile(cwd)"
   ]
  },
  {
   "cell_type": "code",
   "execution_count": null,
   "metadata": {
    "collapsed": false
   },
   "outputs": [],
   "source": [
    "# Test whether something is a directory\n",
    "os.path.isdir(cwd)"
   ]
  },
  {
   "cell_type": "code",
   "execution_count": null,
   "metadata": {
    "collapsed": false,
    "skip_test": true
   },
   "outputs": [],
   "source": [
    "# Pass commands to the system shell from the python shell\n",
    "if os.name is \"posix\" or sys.platform is \"cygwin\":\n",
    "    !pwd\n",
    "elif os.name is \"nt\":\n",
    "    !chdir\n",
    "else:\n",
    "    print(\"Beep. Boop.\")"
   ]
  },
  {
   "cell_type": "code",
   "execution_count": null,
   "metadata": {
    "collapsed": false
   },
   "outputs": [],
   "source": [
    "# Explore your file tree with os.path.join and os.listdir\n",
    "data_dir  = os.path.join(cwd,'data')\n",
    "data_list = os.listdir( data_dir )\n",
    "data_list[0:8]"
   ]
  },
  {
   "cell_type": "code",
   "execution_count": null,
   "metadata": {
    "collapsed": true
   },
   "outputs": [],
   "source": [
    "# Method 1: Create a new directory\n",
    "if not os.path.exists('tmp'):\n",
    "    os.mkdir('tmp')"
   ]
  },
  {
   "cell_type": "code",
   "execution_count": null,
   "metadata": {
    "collapsed": true
   },
   "outputs": [],
   "source": [
    "# Method 2: Create multiple layers od directories simultaneously\n",
    "if not os.path.exists('tmp'):\n",
    "    os.makedirs('tmp')"
   ]
  },
  {
   "cell_type": "markdown",
   "metadata": {
    "collapsed": true
   },
   "source": [
    "---"
   ]
  },
  {
   "cell_type": "markdown",
   "metadata": {},
   "source": [
    "*Copyright Continuum 2012-2016 All Rights Reserved.*"
   ]
  }
 ],
 "metadata": {
  "anaconda-cloud": {},
  "continuum": {
   "depends": [
    "ip_conda",
    "ip_essentials"
   ],
   "requires": [],
   "tag": "themes_shells"
  },
  "kernelspec": {
   "display_name": "Python [conda env:iqt]",
   "language": "python",
   "name": "conda-env-iqt-py"
  },
  "language_info": {
   "codemirror_mode": {
    "name": "ipython",
    "version": 3
   },
   "file_extension": ".py",
   "mimetype": "text/x-python",
   "name": "python",
   "nbconvert_exporter": "python",
   "pygments_lexer": "ipython3",
   "version": "3.5.2"
  }
 },
 "nbformat": 4,
 "nbformat_minor": 0
}
