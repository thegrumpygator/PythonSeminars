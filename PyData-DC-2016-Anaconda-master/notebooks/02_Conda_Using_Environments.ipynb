{
 "cells": [
  {
   "cell_type": "markdown",
   "metadata": {},
   "source": [
    "<img src='img/anaconda-logo.png' align='left' style=\"padding:10px\">\n",
    "<br>\n",
    "*Copyright Continuum 2012-2016 All Rights Reserved.*"
   ]
  },
  {
   "cell_type": "markdown",
   "metadata": {},
   "source": [
    "# Using Conda Environments"
   ]
  },
  {
   "cell_type": "markdown",
   "metadata": {},
   "source": [
    "This lesson demonstrates a common problem that conda solves: easily creating and switching between environments so as to run differnet implementations of code from different programmers."
   ]
  },
  {
   "cell_type": "markdown",
   "metadata": {},
   "source": [
    "## Table of Contents\n",
    "* [Using Conda Environments](#Using-Conda-Environments)\n",
    "* [Using the Shell](#Using-the-Shell)\n",
    "* [The Need for Different Environments](#The-Need-for-Different-Environments)\n",
    "* [Exercises](#Exercises)\n"
   ]
  },
  {
   "cell_type": "markdown",
   "metadata": {},
   "source": [
    "# Using the Shell"
   ]
  },
  {
   "cell_type": "markdown",
   "metadata": {},
   "source": [
    "<div class='alert alert-warning'>\n",
    "<big>\n",
    "Warning: You will need to use a **command line interface**, such  *command prompt* (on Windows), or a terminal on macOS or Linux.\n",
    "</big>\n",
    "</div>\n",
    "* Apple OSX: use `Terminal.app` or [iTerm](https://www.iterm2.com/)\n",
    "* Windows: use the `cmd` prompt, the `Anaconda Prompt`, or [Git Bash (30MB download)](https://git-scm.com/downloads)\n",
    "* Linux: you already know how."
   ]
  },
  {
   "cell_type": "markdown",
   "metadata": {},
   "source": [
    "<div class='alert alert-warning'>\n",
    "<big>\n",
    "Warning: Your \"current working directory\" (CWD) must be set to the correct directory for the programs to run.\n",
    "</big>\n",
    "</div>\n",
    "* Use `cd` (*change directory*) to \"navigate\" to the directory **`Conda/src`** in your terminal."
   ]
  },
  {
   "cell_type": "markdown",
   "metadata": {},
   "source": [
    "# The Problem of Different Environments"
   ]
  },
  {
   "cell_type": "markdown",
   "metadata": {},
   "source": [
    "Not all of your colleagues use the same tools, much less the same versions of those tools. To demonstrate the problem, let's look at several scripts intended to do the same thing, but written with different environment dependencies."
   ]
  },
  {
   "cell_type": "markdown",
   "metadata": {},
   "source": [
    "The directory `src/` consists of four files: \n",
    "\n",
    "* `py2_soln.py`\n",
    "* `py2_pandas_soln.py`\n",
    "* `py3_soln.py`\n",
    "* `r_soln.r`\n",
    "\n",
    "Each of these files is a script, all written to do the same thing, but different implementations:\n",
    "\n",
    "* read weather data from the csv file **`data/eng-daily-01012015-12312015.csv`**\n",
    "* extract the date and the minimum & maximum daily temperature columns from the data\n",
    "* print data extracted (with temperatures in both Celcius & Fahrenheit)\n",
    "\n",
    "The programs are written with slightly different Python or R requirements. The computation is trivial, but the goal here is to make sure we can execute each in their own environment."
   ]
  },
  {
   "cell_type": "markdown",
   "metadata": {},
   "source": [
    "# Exercises"
   ]
  },
  {
   "cell_type": "markdown",
   "metadata": {},
   "source": [
    "<img src='img/topics/Exercise.png' align='left'>\n",
    "<div class='alert alert-warning' align=\"center\">\n",
    "<font size=\"+2\">Create a `conda` environment</font>\n",
    "\n",
    "<br/><br/>\n",
    "<div style=\"padding-left: 10%\" align=\"left\">\n",
    "Create a `conda` environment `py3-env` for working with Python 3.5.\n",
    "\n",
    "<pre>\n",
    "conda create -n py3-env python=3.5\n",
    "</pre>\n",
    "</div></div>"
   ]
  },
  {
   "cell_type": "markdown",
   "metadata": {},
   "source": [
    "<img src='img/topics/Exercise.png' align='left'>\n",
    "<div class='alert alert-warning' align=\"center\">\n",
    "<font size=\"+2\">Use the `conda` environment</font>\n",
    "\n",
    "<br/><br/>\n",
    "<div style=\"padding-left: 10%\" align=\"left\">\n",
    "Activate `py3-env` and make sure the script `py3_soln.py` runs within that environment.\n",
    "\n",
    "In Linux or Mac OS:\n",
    "<pre>\n",
    "source activate py3-env\n",
    "python py3_soln.py\n",
    "</pre>\n",
    "\n",
    "In Windows:\n",
    "<pre>\n",
    "activate py3-env\n",
    "python py3_soln.py\n",
    "</pre>\n",
    "</div></div>"
   ]
  },
  {
   "cell_type": "markdown",
   "metadata": {},
   "source": [
    "<img src='img/topics/Exercise.png' align='left'>\n",
    "<div class='alert alert-warning' align=\"center\">\n",
    "<font size=\"+2\">Create & use a `conda` environment for python 2.7</font>\n",
    "\n",
    "<br/><br/>\n",
    "<div style=\"padding-left: 10%\" align=\"left\">\n",
    "Create a `conda` environment `py2-env` for working with Python 2.7.  Activate the environment `py2-env` and make sure the script `py2_soln.py` runs within that environment.\n",
    "</div></div>"
   ]
  },
  {
   "cell_type": "markdown",
   "metadata": {},
   "source": [
    "<img src='img/topics/Exercise.png' align='left'>\n",
    "<div class='alert alert-warning' align=\"center\">\n",
    "<font size=\"+2\">Trying `py2_pandas_soln.py`</font>\n",
    "\n",
    "<br/><br/>\n",
    "<div style=\"padding-left: 10%\" align=\"left\">\n",
    "Make sure the environment `py2-env` is activated and see if you can execute the script `py2_pandas_soln.py`. If not, why not?\n",
    "</div></div>"
   ]
  },
  {
   "cell_type": "markdown",
   "metadata": {},
   "source": [
    "In Linux or Mac OS:\n",
    "```\n",
    "source activate py2-env\n",
    "python py2_pandas_soln.py\n",
    "```"
   ]
  },
  {
   "cell_type": "markdown",
   "metadata": {},
   "source": [
    "In Windows:\n",
    "```\n",
    "activate py2-env\n",
    "python py2_pandas_soln.py\n",
    "```"
   ]
  },
  {
   "cell_type": "markdown",
   "metadata": {},
   "source": [
    "<img src='img/topics/Exercise.png' align='left'>\n",
    "<div class='alert alert-warning' align=\"center\">\n",
    "<font size=\"+2\">Fixing `py2-env`</font>\n",
    "\n",
    "<br/><br/>\n",
    "<div style=\"padding-left: 10%\" align=\"left\">\n",
    "Modify the environment `py2-env` so that the script `py2_pandas_soln.py` runs as intended. You may find the commands `conda search` and `conda install` useful.\n",
    "\n",
    "<pre>\n",
    "conda search pandas\n",
    "conda install pandas\n",
    "python py2_pandas_soln.py\n",
    "</pre>\n",
    "</div></div>"
   ]
  },
  {
   "cell_type": "markdown",
   "metadata": {},
   "source": [
    "<img src='img/topics/Exercise.png' align='left'>\n",
    "<div class='alert alert-warning' align=\"center\">\n",
    "<font size=\"+2\">Examining `conda` channels</font>\n",
    "\n",
    "<br/><br/>\n",
    "<div style=\"padding-left: 10%\" align=\"left\">\n",
    "Display the channels you are working with by entering the following in a terminal.\n",
    "<pre>\n",
    "conda config --get channels\n",
    "</pre>\n",
    "</div></div>"
   ]
  },
  {
   "cell_type": "markdown",
   "metadata": {},
   "source": [
    "<img src='img/topics/Exercise.png' align='left'>\n",
    "<div class='alert alert-warning' align=\"center\">\n",
    "<font size=\"+2\">Adding a `conda` channel</font>\n",
    "\n",
    "<br/><br/>\n",
    "<div style=\"padding-left: 10%\" align=\"left\">\n",
    "Add the R channel to your `conda` configuration by typing the following at the command prompt.\n",
    "<pre>\n",
    "conda config --add channels r\n",
    "</pre>\n",
    "</div></div>"
   ]
  },
  {
   "cell_type": "markdown",
   "metadata": {},
   "source": [
    "<img src='img/topics/Exercise.png' align='left'>\n",
    "<div class='alert alert-warning' align=\"center\">\n",
    "<font size=\"+2\">Creating an environment for R</font>\n",
    "\n",
    "<br/><br/>\n",
    "<div style=\"padding-left: 10%\" align=\"left\">\n",
    "Create a conda environment `r-env` that contains `r` by typing the following at the command prompt.\n",
    "<pre>\n",
    "conda create -n r-env r\n",
    "</pre>\n",
    "</div></div>"
   ]
  },
  {
   "cell_type": "markdown",
   "metadata": {},
   "source": [
    "<img src='img/topics/Exercise.png' align='left'>\n",
    "<div class='alert alert-warning' align=\"center\">\n",
    "<font size=\"+2\">Using a `conda` environment for `r`</font>\n",
    "\n",
    "<br/><br/>\n",
    "<div style=\"padding-left: 10%\" align=\"left\">\n",
    "Activate the environment `r-env` and make sure the script `r_soln.r` runs within it. The executable for running R scripts is called `Rscript`.\n",
    "\n",
    "In Linux or Mac OS:\n",
    "\n",
    "<pre>\n",
    "source activate r-env\n",
    "Rscript r_soln.r\n",
    "</pre>\n",
    "\n",
    "In Windows:\n",
    "\n",
    "<pre>\n",
    "activate r-env\n",
    "Rscript r_soln.r\n",
    "</pre>\n",
    "</div></div>"
   ]
  },
  {
   "cell_type": "markdown",
   "metadata": {
    "collapsed": true
   },
   "source": [
    "---\n",
    "*Copyright Continuum 2012-2016 All Rights Reserved.*"
   ]
  }
 ],
 "metadata": {
  "anaconda-cloud": {},
  "kernelspec": {
   "display_name": "Python [default]",
   "language": "python",
   "name": "python3"
  },
  "language_info": {
   "codemirror_mode": {
    "name": "ipython",
    "version": 3
   },
   "file_extension": ".py",
   "mimetype": "text/x-python",
   "name": "python",
   "nbconvert_exporter": "python",
   "pygments_lexer": "ipython3",
   "version": "3.5.2"
  }
 },
 "nbformat": 4,
 "nbformat_minor": 0
}
