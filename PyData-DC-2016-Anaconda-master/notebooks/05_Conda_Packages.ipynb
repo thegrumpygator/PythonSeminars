{
 "cells": [
  {
   "cell_type": "markdown",
   "metadata": {},
   "source": [
    "<img src='img/anaconda-logo.png' align='left' style=\"padding:10px\">\n",
    "<br>\n",
    "*Copyright Continuum 2012-2016 All Rights Reserved.*"
   ]
  },
  {
   "cell_type": "markdown",
   "metadata": {},
   "source": [
    "# Creating Conda Packages"
   ]
  },
  {
   "cell_type": "markdown",
   "metadata": {},
   "source": [
    "Conda packages are the building blocks of working environments. \n",
    "\n",
    "They are the fundamental unit of organization and order in an otherwise disordered universe of working environments composed of many software library installs. They serve an organizational unit in a way very much analogous to that of python modules and python packages, as organizational units of collections of software.\n",
    "\n",
    "In this lesson, we'll see how to create, install, and distribute your own conda packages, whether for use internally or in sharing with a broader, more open community.\n",
    "\n",
    "An overview of creating and installing python packages serves to prepare for conda packages in two ways:\n",
    "* a python package provides the basic ingredient needed to create a conda package\n",
    "* the process of python package creation introduces concepts needed to understand conda packaging"
   ]
  },
  {
   "cell_type": "markdown",
   "metadata": {},
   "source": [
    "## Table of Contents\n",
    "* [Creating Conda Packages](#Creating-Conda-Packages)\n",
    "\t* [Before building a conda package](#Before-building-a-conda-package)\n",
    "* [Building a Python Package](#Building-a-Python-Package)\n",
    "\t* [Creating a python module](#Creating-a-python-module)\n",
    "\t* [Creating a python package](#Creating-a-python-package)\n",
    "* [Installing a Python Package](#Installing-a-Python-Package)\n",
    "\t* [2-Step Install](#2-Step-Install)\n",
    "\t\t* [Step 1: Create a `setup.py` file](#Step-1:-Create-a-setup.py-file)\n",
    "\t\t* [Step 2: Execute the setup.py install command](#Step-2:-Execute-the-setup.py-install-command)\n",
    "\t* [Install Paths](#Install-Paths)\n",
    "\t* [Uninstalling Python Packages](#Uninstalling-Python-Packages)\n",
    "* [Building and Installing conda Packages](#Building-and-Installing-conda-Packages)\n",
    "\t* [Before you invoke conda](#Before-you-invoke-conda)\n",
    "\t* [Creating a Recipe from Scratch](#Creating-a-Recipe-from-Scratch)\n",
    "\t* [Creating a Recipe from Skeletons](#Creating-a-Recipe-from-Skeletons)\n",
    "\t* [Building a Conda Package from a Recipe](#Building-a-Conda-Package-from-a-Recipe)\n",
    "\t* [Install a conda package](#Install-a-conda-package)\n",
    "* [Installing from Channels](#Installing-from-Channels)\n",
    "\t* [Default Channels](#Default-Channels)\n",
    "\t* [Uploading Packages](#Uploading-Packages)\n",
    "\t* [Uploading to Anaconda Cloud](#Uploading-to-Anaconda-Cloud)\n",
    "* [Custom Channels](#Custom-Channels)\n",
    "\t* [Repository Channels](#Repository-Channels)\n",
    "\t* [Local Channels](#Local-Channels)\n",
    "\t\t* [Preparing the Local Chanel](#Preparing-the-Local-Chanel)\n",
    "\t\t* [Searching Local Channels](#Searching-Local-Channels)\n",
    "\t\t* [Installing from Local Channel](#Installing-from-Local-Channel)\n",
    "\t* [HTTP Serving Local Channels](#HTTP-Serving-Local-Channels)\n",
    "\t\t* [Prepared your conda config](#Prepared-your-conda-config)\n",
    "\t\t* [Start HTTP Server](#Start-HTTP-Server)\n",
    "\t\t* [Test HTTP Service](#Test-HTTP-Service)\n",
    "\t* [Exercise: Install from your HTTP Server](#Exercise:-Install-from-your-HTTP-Server)\n",
    "\t* [Exercise: Have others Install from your HTTP Server](#Exercise:-Have-others-Install-from-your-HTTP-Server)\n",
    "* [Recap and Preview](#Recap-and-Preview)\n"
   ]
  },
  {
   "cell_type": "markdown",
   "metadata": {},
   "source": [
    "## Before building a conda package"
   ]
  },
  {
   "cell_type": "markdown",
   "metadata": {},
   "source": [
    "There are several things to keep in mind before building a conda package.\n",
    "\n",
    "\n",
    "(1) A conda package is a file archive that contains ***executable*** programs.\n",
    "\n",
    "* think of it as a container of a software library.\n",
    "\n",
    "(2) Conda is ***not just for python***. A conda package may be composed of:\n",
    "\n",
    "* purely interpreted programs, like Python or R\n",
    "* purely compiled programs, like C++ or Fortran\n",
    "* a mixture of interpreted and compiled programs.\n",
    "\n",
    "(3) ***Building*** conda packages sometimes requires compiling\n",
    "\n",
    "* This is an implication of point (1) and point (2)\n",
    "* For our demonstration, we will make a conda package from pure Python: compiling in this case is not needed.\n",
    "* If you wish to build a conda package for a software library which does contain source written in a compiled language (e.g. C, C++), the only change to the conda packaging process is that you must supply a build script capable of compiling your code. \n",
    "\n",
    "(4) ***Installing*** conda packages does NOT require compiling\n",
    "\n",
    "* This is an implication of point (1)\n",
    "* While creation of the conda package may require a compiler, installation of a conda package does not.\n",
    "* Installing with conda means NOT having to install nor maintain your own set of compilers and build tools.\n",
    "* Many conda packages have been created by Continuum Analytics and are available for free download and install using conda."
   ]
  },
  {
   "cell_type": "markdown",
   "metadata": {},
   "source": [
    "# Building a Python Package"
   ]
  },
  {
   "cell_type": "markdown",
   "metadata": {},
   "source": [
    "## Creating a python module"
   ]
  },
  {
   "cell_type": "markdown",
   "metadata": {},
   "source": [
    "Below is an example of a simple python module called `constants.py`.\n",
    "\n",
    "```bash\n",
    "print(\"Welcome to the constants.py module\")\n",
    "\n",
    "import math\n",
    "\n",
    "E = 2.71828\n",
    "PI = 3.14159\n",
    "\n",
    "def compute_pi():\n",
    "    return 4.0*math.atan(1.0)\n",
    "    \n",
    "def compute_e():\n",
    "    sum = 0\n",
    "    for n in range(10):\n",
    "        sum += 1/math.factorial(n)\n",
    "    return sum\n",
    "\n",
    "def print_const(x):\n",
    "    print(\"The value of your constant is \", x)\n",
    "    return None\n",
    "\n",
    "```"
   ]
  },
  {
   "cell_type": "markdown",
   "metadata": {},
   "source": [
    "<img src='img/topics/Exercise.png' align='left'>\n",
    "<div class='alert alert-warning' align=\"center\">\n",
    "<font size=\"+2\">Create a python module</font>\n",
    "\n",
    "<br/><br/>\n",
    "<div style=\"padding-left: 10%\" align=\"left\">\n",
    "Using the \"New\" menu on the Jupyter home tab, or your favorite text editor, create a new file `constants.py` within the `Conda` lesson directory, and paste the python code above into the file.\n",
    "</div></div>"
   ]
  },
  {
   "cell_type": "markdown",
   "metadata": {},
   "source": [
    "This module contains a print statement, one import, two \"data attributes\", `E` and `PI`, and three functions, `compute_pi()`, `compute_e()`, and `print_const()`.\n",
    "\n",
    "This module is **executable** from the system shell.\n",
    "\n",
    "```bash\n",
    "cd Conda\n",
    "python constants.py\n",
    "```"
   ]
  },
  {
   "cell_type": "markdown",
   "metadata": {},
   "source": [
    "This module is also **executable** from the python shell; it is not \"compiled\" before it is used.\n",
    "\n",
    "```bash\n",
    "cd Conda\n",
    "python\n",
    "```"
   ]
  },
  {
   "cell_type": "markdown",
   "metadata": {},
   "source": [
    "```python\n",
    ">>> exec(open(\"constants.py\").read())\n",
    "```"
   ]
  },
  {
   "cell_type": "markdown",
   "metadata": {},
   "source": [
    "<img src='img/topics/Exercise.png' align='left'>\n",
    "<div class='alert alert-warning' align=\"center\">\n",
    "<font size=\"+2\">Execute the module as a script</font>\n",
    "\n",
    "<br/><br/>\n",
    "<div style=\"padding-left: 10%\" align=\"left\">\n",
    "Instead of the python shell, execute the `constants.py` module using the IPython shell, using the `%run` magic followed by the file name.\n",
    "</div></div>"
   ]
  },
  {
   "cell_type": "markdown",
   "metadata": {},
   "source": [
    "From the python shell you can import this file as a python module, and thus access its attributes and call its functions:"
   ]
  },
  {
   "cell_type": "markdown",
   "metadata": {},
   "source": [
    "```bash\n",
    "cd Conda\n",
    "python\n",
    "```"
   ]
  },
  {
   "cell_type": "markdown",
   "metadata": {},
   "source": [
    "```python\n",
    ">>> import constants\n",
    ">>> constants.PI\n",
    "3.14\n",
    ">>> constants.compute_pi()\n",
    "3.1415926535897931\n",
    "```"
   ]
  },
  {
   "cell_type": "markdown",
   "metadata": {},
   "source": [
    "<img src='img/topics/Exercise.png' align='left'>\n",
    "<div class='alert alert-warning' align=\"center\">\n",
    "<font size=\"+2\">Import the module</font>\n",
    "\n",
    "<br/><br/>\n",
    "<div style=\"padding-left: 10%\" align=\"left\">\n",
    "Using the IPython shell, launched either from the Jupyter home tab or your system shell, import the constants file as a module. Test the import by calling the `constants.compute_e()` method.\n",
    "</div></div>"
   ]
  },
  {
   "cell_type": "markdown",
   "metadata": {},
   "source": [
    "## Creating a python package"
   ]
  },
  {
   "cell_type": "markdown",
   "metadata": {},
   "source": [
    "In python, building a large library of reusable code starts with organizing your code into modules, which are then further organized into a python package.\n",
    "\n",
    "A python package is a collection of \n",
    "\n",
    "* one or more python modules (like `constants.py`)\n",
    "* a build/install file called `setup.py`\n",
    "* other optional and customary \"meta-data files\" like `README.txt`\n",
    "\n",
    "These are organized into a particular directory structure. An example of a very simple python package is given below:\n",
    "\n",
    "```bash\n",
    "Desktop/\n",
    "    my_package/\n",
    "        constants.py\n",
    "        setup.py\n",
    "        README.txt\n",
    "        LICENSE.txt\n",
    "```"
   ]
  },
  {
   "cell_type": "markdown",
   "metadata": {},
   "source": [
    "<img src='img/topics/Exercise.png' align='left'>\n",
    "<div class='alert alert-warning' align=\"center\">\n",
    "<font size=\"+2\">Create a python package</font>\n",
    "\n",
    "<br/><br/>\n",
    "<div style=\"padding-left: 10%\" align=\"left\">\n",
    "Create the file tree shown above. Use the previously created constants.py. Create but otherwise leave all other files empty for now.\n",
    "</div></div>"
   ]
  },
  {
   "cell_type": "markdown",
   "metadata": {},
   "source": [
    "<img src='img/topics/Exercise.png' align='left'>\n",
    "<div class='alert alert-warning' align=\"center\">\n",
    "<font size=\"+2\">Create a `setup.py` file</font>\n",
    "\n",
    "<br/><br/>\n",
    "<div style=\"padding-left: 10%\" align=\"left\">\n",
    "Edit the empty `setup.py` file and paste into it the code shown below.\n",
    "</div></div>"
   ]
  },
  {
   "cell_type": "markdown",
   "metadata": {},
   "source": [
    "```python\n",
    "from setuptools import setup\n",
    "setup( name='constants', \n",
    "       version='0.0.1', \n",
    "       py_modules=['constants',], \n",
    "     )\n",
    "```"
   ]
  },
  {
   "cell_type": "markdown",
   "metadata": {},
   "source": [
    "<img src='img/topics/Exercise.png' align='left'>\n",
    "<div class='alert alert-warning' align=\"center\">\n",
    "<font size=\"+2\">Add meta-data to your python package</font>\n",
    "\n",
    "<br/><br/>\n",
    "<div style=\"padding-left: 10%\" align=\"left\">\n",
    "Edit the `README.txt` and `LICENSE.txt` files. For the `README`, add a brief description of `constants.py`. For the `LICENSE` file, add the following text within it:\n",
    "</div></div>\n",
    "\n",
    "> *Licensees may copy, distribute, display and perform the work and make derivative works and remixes based on it only if they give the author or licensor the credits (attribution) in the manner specified by these.*"
   ]
  },
  {
   "cell_type": "markdown",
   "metadata": {},
   "source": [
    "# Installing a Python Package"
   ]
  },
  {
   "cell_type": "markdown",
   "metadata": {},
   "source": [
    "The complete details of the process by which a python package is installed are beyond the scope of this present lesson. But the basics are simple: the contents of the `my_package` directory are in essense copied into a directory whose location will be known to any instance of the python interpreter you launch on your computer."
   ]
  },
  {
   "cell_type": "markdown",
   "metadata": {},
   "source": [
    "## 2-Step Install"
   ]
  },
  {
   "cell_type": "markdown",
   "metadata": {},
   "source": [
    "<img src='img/topics/Advanced-Concept.png' align='left' style='padding:10x'>\n",
    "<div class=\"alert alert-danger\" align=\"center\">\n",
    "<font size=\"+1\">The most common method for reproducibly and safely installing a Python package is outlined below:</font>\n",
    "</div>"
   ]
  },
  {
   "cell_type": "markdown",
   "metadata": {},
   "source": [
    "### Step 1: Create a `setup.py` file"
   ]
  },
  {
   "cell_type": "markdown",
   "metadata": {},
   "source": [
    "```python\n",
    "from setuptools import setup\n",
    "setup( name='constants',\n",
    "       version='0.0.1',\n",
    "       py_modules=['constants',], \n",
    "     )\n",
    "```"
   ]
  },
  {
   "cell_type": "markdown",
   "metadata": {},
   "source": [
    "### Step 2: Execute the setup.py install command"
   ]
  },
  {
   "cell_type": "markdown",
   "metadata": {},
   "source": [
    "```bash\n",
    "python setup.py install\n",
    "```"
   ]
  },
  {
   "cell_type": "markdown",
   "metadata": {},
   "source": [
    "or\n",
    "\n",
    "```bash\n",
    "pip install .\n",
    "```"
   ]
  },
  {
   "cell_type": "markdown",
   "metadata": {},
   "source": [
    "...not yet!"
   ]
  },
  {
   "cell_type": "markdown",
   "metadata": {},
   "source": [
    "For a software package that includes compiled source code, like a Python *extension package* or a C library, your build process would include an actual compilation step, possibly involving a Makefile (Linux), CMake file (Linux, Mac, Windows), or a VS Project file (Windows)."
   ]
  },
  {
   "cell_type": "markdown",
   "metadata": {},
   "source": [
    "<img src='img/topics/Exercise.png' align='left'>\n",
    "<div class='alert alert-warning' align=\"center\">\n",
    "<font size=\"+2\">Make a more complete <tt>setup.py</tt></font>\n",
    "\n",
    "<br/><br/>\n",
    "<div style=\"padding-left: 10%\" align=\"left\">\n",
    "Edit your `setup.py` file so that it reads as shown below.\n",
    "</div></div>"
   ]
  },
  {
   "cell_type": "markdown",
   "metadata": {},
   "source": [
    "Here is a more complete `setup.py` example:\n",
    "\n",
    "```python\n",
    "from setuptools import setup\n",
    "setup(\n",
    "    name='constants',\n",
    "    version='0.0.1',\n",
    "    license='CC BY-NC-SA 4.0',\n",
    "    long_description=open('README.txt').read(),\n",
    "    py_modules=['constants',],\n",
    "    )\n",
    "```"
   ]
  },
  {
   "cell_type": "markdown",
   "metadata": {},
   "source": [
    "<img src='img/topics/Exercise.png' align='left'>\n",
    "<div class='alert alert-warning' align=\"center\">\n",
    "<font size=\"+2\">Update your <tt>LICENSE.txt</tt> file</font>\n",
    "\n",
    "<br/><br/>\n",
    "<div style=\"padding-left: 10%\" align=\"left\">\n",
    "Search online for the license called \"CC BY-NC-SA 4.0\" to discover what it is if you have not heard of it. Replace all text within your `LICENSE.txt` with that of the \"CC\" license found online.\n",
    "</div></div>\n",
    "\n",
    "Review the following description of Creative Commons as well: https://en.wikipedia.org/wiki/Creative_Commons_license"
   ]
  },
  {
   "cell_type": "markdown",
   "metadata": {},
   "source": [
    "<img src='img/topics/Exercise.png' align='left'>\n",
    "<div class='alert alert-warning' align=\"center\">\n",
    "<font size=\"+2\">Use <tt>setup.py</tt> to install the package</font>\n",
    "\n",
    "<br/><br/>\n",
    "<div style=\"padding-left: 10%\" align=\"left\">\n",
    "Execute the `python setup.py install` command. Then test the install by moving to `Desktop`, launching a new python interpreter, and trying to `import constants`.\n",
    "</div></div>"
   ]
  },
  {
   "cell_type": "markdown",
   "metadata": {},
   "source": [
    "```bash\n",
    "cd Desktop\n",
    "python\n",
    "```"
   ]
  },
  {
   "cell_type": "markdown",
   "metadata": {},
   "source": [
    "```python\n",
    ">>> import constants\n",
    "Welcome to the constants.py module!\n",
    ">>> constants.PI\n",
    "3.14159\n",
    ">>> constants.compute_pi()\n",
    "3.1415926535897931\n",
    "```"
   ]
  },
  {
   "cell_type": "markdown",
   "metadata": {},
   "source": [
    "## Install Paths"
   ]
  },
  {
   "cell_type": "markdown",
   "metadata": {},
   "source": [
    "How does the python `import` know where to find where the package was installed?\n",
    "\n",
    "This is done through the `sys.path` directory list:\n",
    "\n",
    "```python\n",
    ">>> import sys\n",
    ">>> sys.path\n",
    "```"
   ]
  },
  {
   "cell_type": "markdown",
   "metadata": {},
   "source": [
    "This `sys.path` is analogous to the system `PATH` variable. \n",
    "\n",
    "It is the list of directories on your file system wherein python will search for python modules or python packages when you try to `import` them.\n",
    "\n",
    "When you installed your python package, its files will be located within one of the directories listed in `sys.path`. "
   ]
  },
  {
   "cell_type": "markdown",
   "metadata": {},
   "source": [
    "*Note: It is best to never try to copy files manually into any of the directories listed in `sys.path` as it is very easy to break something in the process, and it is very hard to reproduce the results even when successful.*"
   ]
  },
  {
   "cell_type": "markdown",
   "metadata": {},
   "source": [
    "<img src='img/topics/Exercise.png' align='left'>\n",
    "<div class='alert alert-warning' align=\"center\">\n",
    "<font size=\"+2\">View path order in <tt>sys.path</tt></font>\n",
    "\n",
    "<br/><br/>\n",
    "<div style=\"padding-left: 10%\" align=\"left\">\n",
    "Inspect the file path search order in `sys.path` by running the folling commands from the Python shell.\n",
    "</div></div>"
   ]
  },
  {
   "cell_type": "markdown",
   "metadata": {},
   "source": [
    "```python\n",
    ">>> import sys\n",
    ">>> sys.path\n",
    "```"
   ]
  },
  {
   "cell_type": "markdown",
   "metadata": {},
   "source": [
    "<img src='img/topics/Exercise.png' align='left'>\n",
    "<div class='alert alert-warning' align=\"center\">\n",
    "<font size=\"+2\">View python package install paths</tt></font>\n",
    "\n",
    "<br/><br/>\n",
    "<div style=\"padding-left: 10%\" align=\"left\">\n",
    "Compare the `sys.path` file paths to those of the python package `site`, execute the following commands from within your Python interpreter.\n",
    "</div></div>"
   ]
  },
  {
   "cell_type": "markdown",
   "metadata": {},
   "source": [
    "```python\n",
    ">>> import site\n",
    ">>> site.USER_SITE\n",
    "/Users/juser/.local/lib/python3.5/site-packages\n",
    "\n",
    ">>> site.USER_BASE\n",
    "/Users/juser/.local\n",
    "\n",
    ">>> site.PREFIXES\n",
    "/Users/juser/anaconda\n",
    "```"
   ]
  },
  {
   "cell_type": "markdown",
   "metadata": {},
   "source": [
    "## Uninstalling Python Packages"
   ]
  },
  {
   "cell_type": "markdown",
   "metadata": {},
   "source": [
    "This is where things get painful. There is no `python setup.py uninstall`. You must find and manually delete all the installed files."
   ]
  },
  {
   "cell_type": "markdown",
   "metadata": {},
   "source": [
    "One helpful tool is to store the names of all the files at the time of install:\n",
    "\n",
    "```\n",
    "python setup.py install --record installed_files.txt\n",
    "```"
   ]
  },
  {
   "cell_type": "markdown",
   "metadata": {},
   "source": [
    "Contents of `installed_files.txt`\n",
    "```\n",
    "/Users/juser/anaconda/lib/python3.5/site-packages/constants-0.0.1-py3.5.egg\n",
    "```"
   ]
  },
  {
   "cell_type": "markdown",
   "metadata": {},
   "source": [
    "<img src='img/topics/Advanced-Concept.png' align='left' style='padding:10x'>\n",
    "<div class=\"alert alert-danger\" align=\"center\">\n",
    "<font size=\"+1\">Python package left-overs</font>\n",
    "\n",
    "<br/><br/>\n",
    "<div style=\"padding-left: 10%\" align=\"left\">\n",
    "It's even a bit more involved than that. Inspect the contents of the directory where the setup.py file lives, and you'll find many other intermediate file artifacts lieft-over from the build and install process.\n",
    "</div></div>"
   ]
  },
  {
   "cell_type": "markdown",
   "metadata": {},
   "source": [
    "<img src='img/topics/Advanced-Concept.png' align='left' style='padding:10x'>\n",
    "<div class=\"alert alert-danger\" align=\"center\">\n",
    "<font size=\"+1\">The <tt>.egg</tt> and <tt>.whl</tt> file formats</font>\n",
    "\n",
    "<br/><br/>\n",
    "<div style=\"padding-left: 10%\" align=\"left\">\n",
    "The <tt>.egg</tt> file was an early distribution format for Python packages. It’s an alternative to a source code distribution or an executable binary. Nowadays, outside the conda ecosystem, the \"wheel\" (<tt>.whl</tt>) format has supplanted \"eggs\"—both remain common though.  Both formats are cross-platform, and are at their heart <tt>.zip</tt> compressed containers that contain source code, and meta-data, and other resources.\n",
    "</div></div>"
   ]
  },
  {
   "cell_type": "markdown",
   "metadata": {},
   "source": [
    "<img src='img/topics/Exercise.png' align='left'>\n",
    "<div class='alert alert-warning' align=\"center\">\n",
    "<font size=\"+2\">Manually remove the install file</tt></font>\n",
    "\n",
    "<br/><br/>\n",
    "<div style=\"padding-left: 10%\" align=\"left\">\n",
    "Uninstall the package by manually deleting the file listed in `installed_files.txt`. Test this \"uninstall\" by then launching a python shell and trying to import the package as `import constants`.\n",
    "</div></div>"
   ]
  },
  {
   "cell_type": "markdown",
   "metadata": {},
   "source": [
    "# Building and Installing conda Packages"
   ]
  },
  {
   "cell_type": "markdown",
   "metadata": {},
   "source": [
    "Conda packages replace eggs and wheels.  They are also based on compressed containers (although using the smaller `.bz2` format), and contain more flexible and powerful metadata structure.  Best of all, conda packages work with the conda package and environment manager, and with Anaconda Repository; we recommend this format."
   ]
  },
  {
   "cell_type": "markdown",
   "metadata": {},
   "source": [
    "Conda itself does not create Python packages for you, but it does help you install, uninstall, and manage them. \n",
    "\n",
    "All conda asks in return, is that you \"wrap\" your packages inside container called a \"conda package\" so that conda can keep track of a wide variety of packages **and their interdependencies** in a consistent way.\n",
    "\n",
    "The outline of the process to create a conda package is as follows:\n",
    "\n",
    "1. write a software library\n",
    "2. write a script that builds and/or installs this library\n",
    "3. write a conda recipe\n",
    "4. create a conda package from the conda recipe using conda-build"
   ]
  },
  {
   "cell_type": "markdown",
   "metadata": {},
   "source": [
    "## Before you invoke conda"
   ]
  },
  {
   "cell_type": "markdown",
   "metadata": {},
   "source": [
    "Regardless or the languages involved, whether compiled or interpreted, to build a conda package, your code must already be **executable** and **installable** without conda. \n",
    "\n",
    "By **\"executable\"** we mean that it must run without error if written in an interpreted language, and must build without error if written in a compiled language."
   ]
  },
  {
   "cell_type": "markdown",
   "metadata": {},
   "source": [
    "## Creating a Recipe from Scratch"
   ]
  },
  {
   "cell_type": "markdown",
   "metadata": {},
   "source": [
    "Once your code is executable, you are ready to start creating a conda recipe.\n",
    "\n",
    "A conda recipe is very much what its name implies: a list of raw ingredients and a list of steps by which those ingredients are processed and combined so as to generate something new: in this case, a conda package.\n",
    "\n",
    "```bash\n",
    "Desktop/\n",
    "    my_recipe/\n",
    "        meta.yaml\n",
    "        build.sh\n",
    "        bld.bat\n",
    "```"
   ]
  },
  {
   "cell_type": "markdown",
   "metadata": {},
   "source": [
    "The files within the directory `my_recipe` make up the conda recipe:\n",
    "\n",
    "```bash\n",
    "meta.yaml\n",
    "build.sh\n",
    "bld.bat\n",
    "```"
   ]
  },
  {
   "cell_type": "markdown",
   "metadata": {},
   "source": [
    "The files of the recipe serve the following purposes:\n",
    "\n",
    "* one `meta.yaml` file, which defines build and run-time dependencies\n",
    "* two `build scripts`, which compile source code (if needed) and install executable programs\n",
    "* notice that there is one build script `build.sh` for Linux, and one `bld.bat` for Windows. \n",
    "\n",
    "Example contents of the recipe files are as follows:\n",
    "\n",
    "* Contents of `meta.yaml`:\n",
    "\n",
    "```yaml\n",
    "package:\n",
    "  name: constants\n",
    "  version: \"0.0.1\"\n",
    "\n",
    "source:\n",
    "  path: ../my_package\n",
    "\n",
    "requirements:\n",
    "  build:\n",
    "    - python\n",
    "    - setuptools\n",
    "  run:\n",
    "    - python\n",
    "\n",
    "test:\n",
    "  imports:\n",
    "    - constants\n",
    "\n",
    "about:\n",
    "  license: CC BY-NC-SA 4.0\n",
    "  license_file: LICENSE.txt\n",
    "```"
   ]
  },
  {
   "cell_type": "markdown",
   "metadata": {},
   "source": [
    "* Contents of `build.sh`: \n",
    "\t\n",
    "```bash\n",
    "python setup.py install\n",
    "```"
   ]
  },
  {
   "cell_type": "markdown",
   "metadata": {},
   "source": [
    "* Contents of `bld.bat`: \n",
    "\t\n",
    "```bash\n",
    "\"%PYTHON%\" setup.py install\n",
    "if errorlevel 1 exit 1\n",
    "```"
   ]
  },
  {
   "cell_type": "markdown",
   "metadata": {},
   "source": [
    "<img src='img/topics/Exercise.png' align='left'>\n",
    "<div class='alert alert-warning' align=\"center\">\n",
    "<font size=\"+2\">Create a Conda Recipe</tt></font>\n",
    "\n",
    "<br/><br/>\n",
    "<div style=\"padding-left: 10%\" align=\"left\">\n",
    "Create the file tree shown above, and use a text editor to copy and paste the contents above into the files.\n",
    "</div></div>"
   ]
  },
  {
   "cell_type": "markdown",
   "metadata": {},
   "source": [
    "## Creating a Recipe from Skeletons"
   ]
  },
  {
   "cell_type": "markdown",
   "metadata": {},
   "source": [
    "It is not always necessary to create a recipe from scratch.\n",
    "\n",
    "There is a large collection of Python packages at the site [Python Package Index](pypi.python.org). You can ask conda to build a recipe based on a package hosted on `pypi`."
   ]
  },
  {
   "cell_type": "markdown",
   "metadata": {},
   "source": [
    "<img src='img/topics/Exercise.png' align='left'>\n",
    "<div class='alert alert-warning' align=\"center\">\n",
    "<font size=\"+2\">Skeleton Recipe</font>\n",
    "\n",
    "<br/><br/>\n",
    "<div style=\"padding-left: 10%\" align=\"left\">\n",
    "Use the following command to create a conda recipe with the conda skeleton tool. This requires access to the website https://pypi.python.org/pypi\n",
    "<pre>\n",
    "conda skeleton pypi pyinstrument\n",
    "</pre>\n",
    "</div></div>"
   ]
  },
  {
   "cell_type": "markdown",
   "metadata": {},
   "source": [
    "Confirm that you now have a directory with the following contents:\n",
    "\n",
    "```bash\n",
    "pyinstrument/\n",
    "   meta.yaml\n",
    "   build.sh\n",
    "   bld.bat\n",
    "```"
   ]
  },
  {
   "cell_type": "markdown",
   "metadata": {},
   "source": [
    "Inspect the contents of the files created above with a text editor such as NotePad, TextEdit, or Emacs."
   ]
  },
  {
   "cell_type": "markdown",
   "metadata": {},
   "source": [
    "## Building a Conda Package from a Recipe"
   ]
  },
  {
   "cell_type": "markdown",
   "metadata": {},
   "source": [
    "Now that you have a recipe, composed of the three files shown above, you can build the conda package from it. The process diagram might looks like this:\n",
    "\n",
    "> (recipe + ingredients) → (conda-build) → (conda package)\n",
    "\n",
    "The actual commands will be as follows:\n",
    "\n",
    "* installing conda build, from your shell:\n",
    "\n",
    "\t```bash\n",
    "\tconda install conda-build\n",
    "\t```\n",
    "\n",
    "* recall where your conda recipe was located:\n",
    "\n",
    "\t```bash\n",
    "\tDesktop\n",
    "\t    my_recipe\n",
    "\t        meta.yaml\n",
    "\t        build.sh\n",
    "            bld.bat\n",
    "\t```\n",
    "\n",
    "* using conda build to build from a recipe\n",
    "\n",
    "    ```bash\n",
    "    cd Desktop\n",
    "    conda build my_recipe\n",
    "    ```\n",
    "* output from conda build is conda package, which takes the form of a compressed file archive with a name like `constants-0.0.1-py35_0.tar.bz2`\n",
    "\n",
    "Likely output path will be:\n",
    "\n",
    "* Linux or Mac-OSX:\n",
    "\n",
    "\t```bash\n",
    "\t $HOME/anaconda/conda-bld/osx-64/`\n",
    "\t```\n",
    "\n",
    "* Windows:\n",
    "\n",
    "\t```bash\n",
    "\t %HOME%\\anaconda\\conda-bld\\win-64\\`\n",
    "\t```"
   ]
  },
  {
   "cell_type": "markdown",
   "metadata": {},
   "source": [
    "<img src='img/topics/Exercise.png' align='left'>\n",
    "<div class='alert alert-warning' align=\"center\">\n",
    "<font size=\"+2\">Build a Conda Package</font>\n",
    "\n",
    "<br/><br/>\n",
    "<div style=\"padding-left: 10%\" align=\"left\">\n",
    "Install `conda-build`, and use it to build both recipes created above: `my_recipe` and `pyinstruments`. Compare the outputs.\n",
    "</div></div>"
   ]
  },
  {
   "cell_type": "markdown",
   "metadata": {},
   "source": [
    "The output will be quite verbose, but should end with a message similar to the following block:\n",
    "\n",
    "```\n",
    "# If you want to upload this package to anaconda.org later, type:\n",
    "#\n",
    "# $ anaconda upload /Users/juser/anaconda/conda-bld/osx-64/constants-0.0.1-py35_0.tar.bz2\n",
    "#\n",
    "# To have conda build upload to anaconda.org automatically, use\n",
    "# $ conda config --set anaconda_upload yes\n",
    "```"
   ]
  },
  {
   "cell_type": "markdown",
   "metadata": {},
   "source": [
    "<img src='img/topics/Exercise.png' align='left'>\n",
    "<div class='alert alert-warning' align=\"center\">\n",
    "<font size=\"+2\">Build using <tt>setup.py</tt> instead of <tt>build.sh</tt></font>\n",
    "\n",
    "<br/><br/>\n",
    "<div style=\"padding-left: 10%\" align=\"left\">\n",
    "Remove the `build.sh` and `bld.bat` files from the recipe directory, and add the following block of code to the `meta.yaml`. Then try to rebuild the conda package from the resulting simplified recipe which contains only the updated `meta.yaml` file.\n",
    "</div></div>"
   ]
  },
  {
   "cell_type": "markdown",
   "metadata": {},
   "source": [
    "```python\n",
    "    build:\n",
    "        script: python setup.py install\n",
    "```"
   ]
  },
  {
   "cell_type": "markdown",
   "metadata": {},
   "source": [
    "## Install a conda package"
   ]
  },
  {
   "cell_type": "markdown",
   "metadata": {},
   "source": [
    "As preparation, install `ipython` into the same environment in which you intend to install your new `constants` conda package, else you may get the system or `root` install of `ipython`"
   ]
  },
  {
   "cell_type": "markdown",
   "metadata": {},
   "source": [
    "Before we install, let's make sure we remove to old \"manually\" installed version of the package:"
   ]
  },
  {
   "cell_type": "markdown",
   "metadata": {},
   "source": [
    "```bash\n",
    "/Users/juser/anaconda/lib/python3.5/site-packages/constants-0.0.1-py3.5.egg\n",
    "```"
   ]
  },
  {
   "cell_type": "markdown",
   "metadata": {},
   "source": [
    "Installing a locally created conda package is done as follows:\n",
    "\n",
    "```bash\n",
    "conda install --use-local constants\n",
    "```"
   ]
  },
  {
   "cell_type": "markdown",
   "metadata": {},
   "source": [
    "```\n",
    "juser:~ ] $ conda install --use-local constants\n",
    "Fetching package metadata .........\n",
    "Solving package specifications: ..........\n",
    "Using Anaconda Cloud api site https://api.anaconda.org\n",
    "\n",
    "Package plan for installation in environment /Users/juser/anaconda:\n",
    "\n",
    "The following NEW packages will be INSTALLED:\n",
    "\n",
    "    constants: 0.0.1-py35_0 local\n",
    "\n",
    "Proceed ([y]/n)?\n",
    "```"
   ]
  },
  {
   "cell_type": "markdown",
   "metadata": {},
   "source": [
    "<img src='img/topics/Exercise.png' align='left'>\n",
    "<div class='alert alert-warning' align=\"center\">\n",
    "<font size=\"+2\">Installing your conda package</font>\n",
    "\n",
    "<br/><br/>\n",
    "<div style=\"padding-left: 10%\" align=\"left\">\n",
    "Create a new conda environment called `test1`. Then use `conda install --use-local constants` to install the local package.\n",
    "</div></div>"
   ]
  },
  {
   "cell_type": "markdown",
   "metadata": {},
   "source": [
    "```bash\n",
    "conda create -n test1\n",
    "source activate test1\n",
    "conda install --use-local constants\n",
    "```"
   ]
  },
  {
   "cell_type": "markdown",
   "metadata": {},
   "source": [
    "Then test the exercise install in two ways:\n",
    "\n",
    "* Launch the system shell, and run `conda list`, and see if `constants` is listed.\n",
    "* Launch the IPython shell, and import the package with `import constants`."
   ]
  },
  {
   "cell_type": "markdown",
   "metadata": {},
   "source": [
    "<img src='img/topics/Exercise.png' align='left'>\n",
    "<div class='alert alert-warning' align=\"center\">\n",
    "<font size=\"+2\">Installing your package using the full path</font>\n",
    "\n",
    "<br/><br/>\n",
    "<div style=\"padding-left: 10%\" align=\"left\">\n",
    "Create a new conda environment called `test2`. Then install the package by referencing the file path directly, as show below.\n",
    "</div></div>"
   ]
  },
  {
   "cell_type": "markdown",
   "metadata": {},
   "source": [
    "```bash\n",
    "conda create -n test2 python=3.5 ipython\n",
    "source activate test2\n",
    "conda install /path/to/constants-0.0.1-py35_0.tar.bz2\n",
    "```"
   ]
  },
  {
   "cell_type": "markdown",
   "metadata": {},
   "source": [
    "In this case `/path/to/` is the location of the conda package output from running `conda-build`. Modify the actual package file name to match exactly what was output by `conda-build`."
   ]
  },
  {
   "cell_type": "markdown",
   "metadata": {},
   "source": [
    "<img src='img/topics/Exercise.png' align='left'>\n",
    "<div class='alert alert-warning' align=\"center\">\n",
    "<font size=\"+2\">Test the previous install by importing</font>\n",
    "\n",
    "<br/><br/>\n",
    "<div style=\"padding-left: 10%\" align=\"left\">\n",
    "Install this package using the command above and then open a python interpreter and test the install by trying to import and use the package as follows.\n",
    "</div></div>"
   ]
  },
  {
   "cell_type": "markdown",
   "metadata": {},
   "source": [
    "```python\n",
    ">>> import constants\n",
    ">>> constants.PI\n",
    "3.14159\n",
    ">>> constants.compute_pi()\n",
    "3.1415926535897931\n",
    "```"
   ]
  },
  {
   "cell_type": "markdown",
   "metadata": {},
   "source": [
    "<img src='img/topics/Exercise.png' align='left'>\n",
    "<div class='alert alert-warning' align=\"center\">\n",
    "<font size=\"+2\">Rebuild the package for python 2.7</font>\n",
    "\n",
    "<br/><br/>\n",
    "<div style=\"padding-left: 10%\" align=\"left\">\n",
    "Create a new conda environment for Python 2.7 and activate it. Then use `conda build --python=2.7 constants` to rebuild the conda package. Once built, install it and test it as was done above with Python 3.\n",
    "<hr/>\n",
    "*Hint: the <tt>print()</tt> function in the <tt>constants.py</tt> file is compatible with Python 3 but behaves differently in Python 2. Make any necessary syntax changes or imports needed.*\n",
    "</div></div>"
   ]
  },
  {
   "cell_type": "markdown",
   "metadata": {},
   "source": [
    "# Installing from Channels"
   ]
  },
  {
   "cell_type": "markdown",
   "metadata": {},
   "source": [
    "* Conda packages are usually installed from channels, not just from local builds.\n",
    "* Channels are the paths (URLS, really) that conda searches for packages.\n",
    "* The easiest way to use channels is to use a private (Anaconda Repository) or public (`anaconda.org`) repository with pre-existing channels.\n",
    "* Custom channels can be constructed locally, and installed from using `file://` URLs, using just conda."
   ]
  },
  {
   "cell_type": "markdown",
   "metadata": {},
   "source": [
    "## Default Channels"
   ]
  },
  {
   "cell_type": "markdown",
   "metadata": {},
   "source": [
    "* `anaconda.org` is the default repository from which conda installs packages\n",
    "* `defaults` defines the default channels on `anaconda.org` which conda searches when asked to install a package.\n",
    "* in the previous example we had to force conda to **not** look for `anaconda.org`\n",
    "* we used the `--use-local` flag to install the local constants package. \n",
    "\n",
    "> For example, if want to install `numpy`, run `conda install numpy`. The numpy package file would be copied from from a channel called `default` that is hosted by Continuum Analytics at `repos.continuum.io`"
   ]
  },
  {
   "cell_type": "markdown",
   "metadata": {},
   "source": [
    "## Uploading Packages"
   ]
  },
  {
   "cell_type": "markdown",
   "metadata": {},
   "source": [
    "Recall the message that was seen at the end of a successful conda package build:"
   ]
  },
  {
   "cell_type": "markdown",
   "metadata": {},
   "source": [
    "```\n",
    "# If you want to upload this package to anaconda.org later, type:\n",
    "#\n",
    "# $ anaconda upload /Users/juser/anaconda/conda-bld/osx-64/constants-0.0.1-py35_0.tar.bz2\n",
    "#\n",
    "# To have conda build upload to anaconda.org automatically, use\n",
    "# $ conda config --set anaconda_upload yes\n",
    "```"
   ]
  },
  {
   "cell_type": "markdown",
   "metadata": {},
   "source": [
    "## Uploading to Anaconda Cloud"
   ]
  },
  {
   "cell_type": "markdown",
   "metadata": {},
   "source": [
    "This is very common way of sharing conda packages with the community of conda users. It first requires creating a account on `anaconda.org`.\n",
    "\n",
    "* uploading to anaconda.org personal account\n",
    "* installing from anaconda.org personal account\n",
    "* how your distant collaborators can also install from anaconda.org\n",
    "\n",
    "The steps are as follows:\n",
    "\n",
    "* `conda install anaconda-client`\n",
    "* `anaconda login`\n",
    "* `conda config --set anaconda_upload yes`\n",
    "* `anaconda upload $HOME/anaconda/conda-bld/osx-64/constants-0.0.1-py27_0.tar.bz2`"
   ]
  },
  {
   "cell_type": "markdown",
   "metadata": {},
   "source": [
    "<img src='img/topics/Exercise.png' align='left'>\n",
    "<div class='alert alert-warning' align=\"center\">\n",
    "<font size=\"+2\">Install your package using anaconda.org</font>\n",
    "\n",
    "<br/><br/>\n",
    "<div style=\"padding-left: 10%\" align=\"left\">\n",
    "Install your recently uploaded package from anaconda.org using the below command.\n",
    "</div></div>"
   ]
  },
  {
   "cell_type": "markdown",
   "metadata": {},
   "source": [
    "```bash\n",
    "conda install constants --channel <YOUR-ANACONDA-USERNAME>\n",
    "```"
   ]
  },
  {
   "cell_type": "markdown",
   "metadata": {},
   "source": [
    "# Custom Channels"
   ]
  },
  {
   "cell_type": "markdown",
   "metadata": {},
   "source": [
    "## Repository Channels"
   ]
  },
  {
   "cell_type": "markdown",
   "metadata": {},
   "source": [
    "You can use channels that are not the defaults on repositories like Anaconda Cloud or a private instance of Anaconda Repository.\n",
    "\n",
    "To do so, you must add the channel to your conda figuration as follows:"
   ]
  },
  {
   "cell_type": "markdown",
   "metadata": {},
   "source": [
    "```bash\n",
    "conda config --add channels http://anaconda.org/<USERNAME>\n",
    "```"
   ]
  },
  {
   "cell_type": "markdown",
   "metadata": {},
   "source": [
    "## Local Channels"
   ]
  },
  {
   "cell_type": "markdown",
   "metadata": {},
   "source": [
    "You can create custom local channels as well. \n",
    "\n",
    "While it is best to use Anaconda Cloud or Anaconda Repository, this example is useful in understanding how channels work."
   ]
  },
  {
   "cell_type": "markdown",
   "metadata": {},
   "source": [
    "*This demonstration was developed and tested using `conda 4.1.11`*"
   ]
  },
  {
   "cell_type": "markdown",
   "metadata": {},
   "source": [
    "### Preparing the Local Chanel"
   ]
  },
  {
   "cell_type": "markdown",
   "metadata": {},
   "source": [
    "Preparing the local channel requires the following steps:\n",
    "* find or build at least one conda package\n",
    "* create a file tree for your channel:\n",
    "    * top level dir is the channel name\n",
    "    * sub-dirs for platform specific packages\n",
    "* place your conda packages (files.tar.bz2) into the path\n",
    "* run `conda index` on the platform sub-dirs"
   ]
  },
  {
   "cell_type": "markdown",
   "metadata": {},
   "source": [
    "```bash\n",
    "conda build my_recipe\n",
    "mkdir /opt/my_channel/osx-64/\n",
    "cd ~/anaconda/conda-bld/osx-64/\n",
    "cp constants-0.0.1-py35_0.tar.bz2 /opt/my_channel/osx-64/\n",
    "conda index /opt/my_channel/osx-64/\n",
    "```"
   ]
  },
  {
   "cell_type": "markdown",
   "metadata": {},
   "source": [
    "You can use `conda convert` to add packages for other platforms to your local channel:"
   ]
  },
  {
   "cell_type": "markdown",
   "metadata": {},
   "source": [
    "```bash\n",
    "mkdir /opt/my_channel/win-64/\n",
    "cd ~/anaconda/conda-bld/osx-64/\n",
    "conda convert constants-0.0.1-py35_0.tar.bz2 -p win-64\n",
    "cp win-64/constants-0.0.1-py35_0.tar.bz2 /opt/my_channel/win-64/\n",
    "conda index /opt/my_channel/win-64/\n",
    "```"
   ]
  },
  {
   "cell_type": "markdown",
   "metadata": {},
   "source": [
    "### Searching Local Channels"
   ]
  },
  {
   "cell_type": "markdown",
   "metadata": {},
   "source": [
    "After preparing your channel, test it with `conda seach`:"
   ]
  },
  {
   "cell_type": "markdown",
   "metadata": {},
   "source": [
    "```bash\n",
    "conda search -c file://opt/my_channel constants --override-channels\n",
    "```"
   ]
  },
  {
   "cell_type": "markdown",
   "metadata": {},
   "source": [
    "### Installing from Local Channel"
   ]
  },
  {
   "cell_type": "markdown",
   "metadata": {},
   "source": [
    "Once prepared and tested, you are ready to install from your channel:\n",
    "* create a new environment\n",
    "* activate that environment\n",
    "* install a package from your local channel with `conda install`\n",
    "    * use `-c file://full_path_to_channel`\n",
    "    * also use the `--override-channels` flag"
   ]
  },
  {
   "cell_type": "markdown",
   "metadata": {},
   "source": [
    "```bash\n",
    "cd ~/\n",
    "conda create -n test-local-channel python=3.5 ipython\n",
    "source activate test-local-channel\n",
    "conda install -c file://opt/my_channel constants --override-channels\n",
    "```"
   ]
  },
  {
   "cell_type": "markdown",
   "metadata": {},
   "source": [
    "## HTTP Serving Local Channels"
   ]
  },
  {
   "cell_type": "markdown",
   "metadata": {},
   "source": [
    "You can even serve your local channels over HTTP:\n",
    "\n",
    "*Note: this is leading us to the capability that Anaconda Cloud and Anaconda Repository provide.*"
   ]
  },
  {
   "cell_type": "markdown",
   "metadata": {},
   "source": [
    "### Prepared your conda config"
   ]
  },
  {
   "cell_type": "markdown",
   "metadata": {},
   "source": [
    "Update your `~/.condarc` by adding the IP address as shown:"
   ]
  },
  {
   "cell_type": "markdown",
   "metadata": {},
   "source": [
    "```bash\n",
    "channels:\n",
    "- http://0.0.0.0:8000\n",
    "- defaults\n",
    "```"
   ]
  },
  {
   "cell_type": "markdown",
   "metadata": {},
   "source": [
    "### Start HTTP Server"
   ]
  },
  {
   "cell_type": "markdown",
   "metadata": {},
   "source": [
    "Use python to start an HTTP server:\n",
    "\n",
    "Start the HTTP server from the directory that contains your indexed `osx-64` and `win-64` subdirs, so that they appear at the top level of the file tree served out:"
   ]
  },
  {
   "cell_type": "markdown",
   "metadata": {},
   "source": [
    "```bash\n",
    "cd ~/Desktop/my_channel\n",
    "python -m http.server\n",
    "```"
   ]
  },
  {
   "cell_type": "markdown",
   "metadata": {},
   "source": [
    "### Test HTTP Service"
   ]
  },
  {
   "cell_type": "markdown",
   "metadata": {},
   "source": [
    "Open a web browser to verify that you can see the directory contents, but crowsing to the following URL:"
   ]
  },
  {
   "cell_type": "markdown",
   "metadata": {},
   "source": [
    "```\n",
    "http://0.0.0.0:8000\n",
    "```"
   ]
  },
  {
   "cell_type": "markdown",
   "metadata": {},
   "source": [
    "TO install from this HTTP served channel, use `conda install` and specifiy the `<URL>:<PORT>` as the channel:"
   ]
  },
  {
   "cell_type": "markdown",
   "metadata": {},
   "source": [
    "```bash\n",
    "conda create -n test python=3.5\n",
    "source activate test\n",
    "conda install -c http://0.0.0.0:8000 constants\n",
    "```"
   ]
  },
  {
   "cell_type": "markdown",
   "metadata": {},
   "source": [
    "## Exercise: Install from your HTTP Server"
   ]
  },
  {
   "cell_type": "markdown",
   "metadata": {},
   "source": [
    "Using `http://127.0.0.1:8000` in your `~/.condarc` and then install with `conda install -c http://local.host constants`. Again, use a web browser and try to load `http://127.0.0.1` to see if you get a file listing of the contents of `my_channel`"
   ]
  },
  {
   "cell_type": "markdown",
   "metadata": {},
   "source": [
    "```\n",
    "#~/.condarc\n",
    "channels:\n",
    "- http://127.0.0.1:8000\n",
    "- defaults\n",
    "```"
   ]
  },
  {
   "cell_type": "markdown",
   "metadata": {},
   "source": [
    "## Exercise: Have others Install from your HTTP Server"
   ]
  },
  {
   "cell_type": "markdown",
   "metadata": {},
   "source": [
    "Find you assigned IP address on the local network. For example, on Linux of Mac, in a terminal, run the `ifconfig` command, and look for the value of `inet` in the output block labeled `en0`. Give that IP address to your classmate to your left, and ask them to run the commands above, but replace `0.0.0.0` or `127.0.0.1` with this new address. Does it work?"
   ]
  },
  {
   "cell_type": "markdown",
   "metadata": {},
   "source": [
    "```\n",
    "#~/.condarc\n",
    "channels:\n",
    "- http://10.0.32.184:8000\n",
    "- defaults\n",
    "```"
   ]
  },
  {
   "cell_type": "markdown",
   "metadata": {},
   "source": [
    "```bash\n",
    "conda create -n test-http python=3.5\n",
    "source activate test-http\n",
    "conda install -c http://10.0.32.184:8000 constants --override-channels\n",
    "```"
   ]
  },
  {
   "cell_type": "markdown",
   "metadata": {},
   "source": [
    "# Recap and Preview"
   ]
  },
  {
   "cell_type": "markdown",
   "metadata": {},
   "source": [
    "In this lesson we saw....\n",
    "\n",
    "* Building a Python module\n",
    "* Building a Python package\n",
    "* Building a Conda package\n",
    "* Installing a local conda package\n",
    "* Installing packages from channels\n",
    "* Uploading a custom conda package to anaconda.org\n",
    "* Creating a custom local package channel\n",
    "* Serving a local channel with a HTTP service"
   ]
  },
  {
   "cell_type": "markdown",
   "metadata": {},
   "source": [
    "---\n",
    "*Copyright Continuum 2012-2016 All Rights Reserved.*"
   ]
  }
 ],
 "metadata": {
  "anaconda-cloud": {},
  "kernelspec": {
   "display_name": "Python [default]",
   "language": "python",
   "name": "python3"
  },
  "language_info": {
   "codemirror_mode": {
    "name": "ipython",
    "version": 3
   },
   "file_extension": ".py",
   "mimetype": "text/x-python",
   "name": "python",
   "nbconvert_exporter": "python",
   "pygments_lexer": "ipython3",
   "version": "3.5.2"
  }
 },
 "nbformat": 4,
 "nbformat_minor": 0
}
